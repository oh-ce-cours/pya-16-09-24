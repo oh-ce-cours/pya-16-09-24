{
 "cells": [
  {
   "cell_type": "markdown",
   "id": "13cd785e-3cc4-479a-ba84-1f5ae070725b",
   "metadata": {},
   "source": [
    "# Rappels\n",
    "\n",
    "* fonctions\n",
    "    * paramètres\n",
    "        * `args` / `kwargs`\n",
    "        * pas de paramètres mutables dans les définitions de fonctions (par exemple une liste) ! A la place, on met une valeur 'sentinelle' à `None` pour créer la variable à l'intérieur \n",
    "    * portées des variables : `Local Enclosing Global Builtin`\n",
    "    * les closures sont en lecture seule\n",
    "    * `@decorateur` -> `fonction = deco(fonction)`\n",
    "    * utilisation de décorateurs\n",
    "        * `functools.lru_cache`\n",
    "        * `tenacity` : pour réessayer en cas d'erreur\n",
    "        * `functools.wraps` : permet de faire croire que notre `wrapper` est la fonction de base (même nom, documentation, aide, ...)\n",
    "* encodages :\n",
    "    * il faut le préciser quand on intéragit avec un système externe\n",
    "    * vous ne pouvez pas le deviner avec 100% de certitude\n",
    "    * il y a des bibliothèques qui peuvent aider à les deviner :\n",
    "        * `chardet`"
   ]
  },
  {
   "cell_type": "code",
   "execution_count": 2,
   "id": "0de13e66-77f4-4c34-a56a-80726281a579",
   "metadata": {},
   "outputs": [],
   "source": [
    "def f():\n",
    "    \"\"\"salut\"\"\""
   ]
  },
  {
   "cell_type": "code",
   "execution_count": 5,
   "id": "67746375-e743-46a6-8ef3-284e65e61f1a",
   "metadata": {},
   "outputs": [
    {
     "name": "stdout",
     "output_type": "stream",
     "text": [
      "salut\n",
      "toto\n"
     ]
    }
   ],
   "source": [
    "print(f.__doc__)\n",
    "f.__doc__ = \"toto\"\n",
    "print(f.__doc__)"
   ]
  },
  {
   "cell_type": "code",
   "execution_count": null,
   "id": "1fc8bd07-63b0-4adc-b4d8-8d617d338317",
   "metadata": {},
   "outputs": [],
   "source": []
  }
 ],
 "metadata": {
  "kernelspec": {
   "display_name": "Python 3 (ipykernel)",
   "language": "python",
   "name": "python3"
  },
  "language_info": {
   "codemirror_mode": {
    "name": "ipython",
    "version": 3
   },
   "file_extension": ".py",
   "mimetype": "text/x-python",
   "name": "python",
   "nbconvert_exporter": "python",
   "pygments_lexer": "ipython3",
   "version": "3.12.2"
  }
 },
 "nbformat": 4,
 "nbformat_minor": 5
}
