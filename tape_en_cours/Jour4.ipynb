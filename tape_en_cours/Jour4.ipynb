{
 "cells": [
  {
   "cell_type": "markdown",
   "id": "13cd785e-3cc4-479a-ba84-1f5ae070725b",
   "metadata": {},
   "source": [
    "# Rappels\n",
    "\n",
    "* fonctions\n",
    "    * paramètres\n",
    "        * `args` / `kwargs`\n",
    "        * pas de paramètres mutables dans les définitions de fonctions (par exemple une liste) ! A la place, on met une valeur 'sentinelle' à `None` pour créer la variable à l'intérieur \n",
    "    * portées des variables : `Local Enclosing Global Builtin`\n",
    "    * les closures sont en lecture seule\n",
    "    * `@decorateur` -> `fonction = deco(fonction)`\n",
    "    * utilisation de décorateurs\n",
    "        * `functools.lru_cache`\n",
    "        * `tenacity` : pour réessayer en cas d'erreur\n",
    "        * `functools.wraps` : permet de faire croire que notre `wrapper` est la fonction de base (même nom, documentation, aide, ...)\n",
    "* encodages : "
   ]
  },
  {
   "cell_type": "code",
   "execution_count": 1,
   "id": "d879decc-7e6f-4775-a482-cddaff5902c7",
   "metadata": {},
   "outputs": [
    {
     "name": "stdout",
     "output_type": "stream",
     "text": [
      "2\n"
     ]
    }
   ],
   "source": [
    "a = print\n",
    "a(2)"
   ]
  },
  {
   "cell_type": "code",
   "execution_count": 2,
   "id": "0de13e66-77f4-4c34-a56a-80726281a579",
   "metadata": {},
   "outputs": [],
   "source": [
    "def f():\n",
    "    \"\"\"salut\"\"\""
   ]
  },
  {
   "cell_type": "code",
   "execution_count": 4,
   "id": "67746375-e743-46a6-8ef3-284e65e61f1a",
   "metadata": {},
   "outputs": [
    {
     "data": {
      "text/plain": [
       "'salut'"
      ]
     },
     "execution_count": 4,
     "metadata": {},
     "output_type": "execute_result"
    }
   ],
   "source": [
    "f.__doc__"
   ]
  },
  {
   "cell_type": "code",
   "execution_count": null,
   "id": "1fc8bd07-63b0-4adc-b4d8-8d617d338317",
   "metadata": {},
   "outputs": [],
   "source": []
  }
 ],
 "metadata": {
  "kernelspec": {
   "display_name": "Python 3 (ipykernel)",
   "language": "python",
   "name": "python3"
  },
  "language_info": {
   "codemirror_mode": {
    "name": "ipython",
    "version": 3
   },
   "file_extension": ".py",
   "mimetype": "text/x-python",
   "name": "python",
   "nbconvert_exporter": "python",
   "pygments_lexer": "ipython3",
   "version": "3.12.2"
  }
 },
 "nbformat": 4,
 "nbformat_minor": 5
}
