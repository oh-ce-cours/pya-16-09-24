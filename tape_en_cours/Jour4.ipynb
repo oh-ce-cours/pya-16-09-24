{
 "cells": [
  {
   "cell_type": "markdown",
   "id": "13cd785e-3cc4-479a-ba84-1f5ae070725b",
   "metadata": {},
   "source": [
    "# Rappels\n",
    "\n",
    "* fonctions\n",
    "    * définition de fonctions avec `lambda` :\n",
    "        * fonctions anonymes (elles n'ont pas de nom)\n",
    "        * elles n'ont qu'une seule instruction \n",
    "    * paramètres\n",
    "        * `args` / `kwargs`\n",
    "        * pas de paramètres mutables dans les définitions de fonctions (par exemple une liste) ! A la place, on met une valeur 'sentinelle' à `None` pour créer la variable à l'intérieur \n",
    "    * portées des variables : `Local Enclosing Global Builtin`\n",
    "    * les closures sont en lecture seule\n",
    "    * `@decorateur` -> `fonction = deco(fonction)`\n",
    "    * utilisation de décorateurs\n",
    "        * `functools.lru_cache`\n",
    "        * `tenacity` : pour réessayer en cas d'erreur\n",
    "        * `functools.wraps` : permet de faire croire que notre `wrapper` est la fonction de base (même nom, documentation, aide, ...)\n",
    "* encodages :\n",
    "    * il faut le préciser quand on intéragit avec un système externe\n",
    "    * vous ne pouvez pas le deviner avec 100% de certitude\n",
    "    * il y a des bibliothèques qui peuvent aider à les deviner :\n",
    "        * `chardet`\n",
    "* `dir` : permet de connaitre les \"attibuts\" d'un objet => c'est de l'introspection "
   ]
  },
  {
   "cell_type": "code",
   "execution_count": 2,
   "id": "0de13e66-77f4-4c34-a56a-80726281a579",
   "metadata": {},
   "outputs": [],
   "source": [
    "def f():\n",
    "    \"\"\"salut\"\"\""
   ]
  },
  {
   "cell_type": "code",
   "execution_count": 5,
   "id": "67746375-e743-46a6-8ef3-284e65e61f1a",
   "metadata": {},
   "outputs": [
    {
     "name": "stdout",
     "output_type": "stream",
     "text": [
      "salut\n",
      "toto\n"
     ]
    }
   ],
   "source": [
    "print(f.__doc__)\n",
    "f.__doc__ = \"toto\"\n",
    "print(f.__doc__)"
   ]
  },
  {
   "cell_type": "markdown",
   "id": "3e5c54a7-8aad-4e5d-89f5-895a2bebf0ce",
   "metadata": {},
   "source": [
    "# Encodages"
   ]
  },
  {
   "cell_type": "code",
   "execution_count": null,
   "id": "87bb4ac6-d055-4d26-926c-4cd2229d97d5",
   "metadata": {},
   "outputs": [],
   "source": [
    "f = open(\"./parsing_example_mp.py\")\n",
    "print(f.readlines())"
   ]
  }
 ],
 "metadata": {
  "kernelspec": {
   "display_name": "Python 3 (ipykernel)",
   "language": "python",
   "name": "python3"
  },
  "language_info": {
   "codemirror_mode": {
    "name": "ipython",
    "version": 3
   },
   "file_extension": ".py",
   "mimetype": "text/x-python",
   "name": "python",
   "nbconvert_exporter": "python",
   "pygments_lexer": "ipython3",
   "version": "3.12.2"
  }
 },
 "nbformat": 4,
 "nbformat_minor": 5
}
