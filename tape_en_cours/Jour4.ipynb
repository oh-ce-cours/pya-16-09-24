{
 "cells": [
  {
   "cell_type": "markdown",
   "id": "13cd785e-3cc4-479a-ba84-1f5ae070725b",
   "metadata": {},
   "source": [
    "# Rappels\n",
    "\n",
    "* fonctions\n",
    "    * définition de fonctions avec `lambda` :\n",
    "        * fonctions anonymes (elles n'ont pas de nom)\n",
    "        * elles n'ont qu'une seule instruction \n",
    "    * paramètres\n",
    "        * `args` / `kwargs`\n",
    "        * pas de paramètres mutables dans les définitions de fonctions (par exemple une liste) ! A la place, on met une valeur 'sentinelle' à `None` pour créer la variable à l'intérieur \n",
    "    * portées des variables : `Local Enclosing Global Builtin`\n",
    "    * les closures sont en lecture seule\n",
    "    * `@decorateur` -> `fonction = deco(fonction)`\n",
    "    * utilisation de décorateurs\n",
    "        * `functools.lru_cache`\n",
    "        * `tenacity` : pour réessayer en cas d'erreur\n",
    "        * `functools.wraps` : permet de faire croire que notre `wrapper` est la fonction de base (même nom, documentation, aide, ...)\n",
    "* encodages :\n",
    "    * il faut le préciser quand on intéragit avec un système externe\n",
    "    * vous ne pouvez pas le deviner avec 100% de certitude\n",
    "    * il y a des bibliothèques qui peuvent aider à les deviner :\n",
    "        * `chardet`\n",
    "* `dir` : permet de connaitre les \"attibuts\" d'un objet => c'est de l'introspection "
   ]
  },
  {
   "cell_type": "code",
   "execution_count": 2,
   "id": "0de13e66-77f4-4c34-a56a-80726281a579",
   "metadata": {},
   "outputs": [],
   "source": [
    "def f():\n",
    "    \"\"\"salut\"\"\""
   ]
  },
  {
   "cell_type": "code",
   "execution_count": 5,
   "id": "67746375-e743-46a6-8ef3-284e65e61f1a",
   "metadata": {},
   "outputs": [
    {
     "name": "stdout",
     "output_type": "stream",
     "text": [
      "salut\n",
      "toto\n"
     ]
    }
   ],
   "source": [
    "print(f.__doc__)\n",
    "f.__doc__ = \"toto\"\n",
    "print(f.__doc__)"
   ]
  },
  {
   "cell_type": "markdown",
   "id": "3e5c54a7-8aad-4e5d-89f5-895a2bebf0ce",
   "metadata": {},
   "source": [
    "# Encodages"
   ]
  },
  {
   "cell_type": "code",
   "execution_count": 11,
   "id": "87bb4ac6-d055-4d26-926c-4cd2229d97d5",
   "metadata": {},
   "outputs": [
    {
     "name": "stdout",
     "output_type": "stream",
     "text": [
      "ascii\n"
     ]
    }
   ],
   "source": [
    "f = open(\"./parsing_example_mp.py\", encoding=\"ascii\")\n",
    "#print(f.readlines())\n",
    "print(f.encoding)"
   ]
  },
  {
   "cell_type": "code",
   "execution_count": 12,
   "id": "3654a0b8-b812-43d1-9e32-fc4fa1acf7a9",
   "metadata": {},
   "outputs": [
    {
     "ename": "UnicodeDecodeError",
     "evalue": "'ascii' codec can't decode byte 0xc3 in position 2940: ordinal not in range(128)",
     "output_type": "error",
     "traceback": [
      "\u001b[0;31m---------------------------------------------------------------------------\u001b[0m",
      "\u001b[0;31mUnicodeDecodeError\u001b[0m                        Traceback (most recent call last)",
      "Cell \u001b[0;32mIn[12], line 1\u001b[0m\n\u001b[0;32m----> 1\u001b[0m \u001b[43mf\u001b[49m\u001b[38;5;241;43m.\u001b[39;49m\u001b[43mreadlines\u001b[49m\u001b[43m(\u001b[49m\u001b[43m)\u001b[49m\n",
      "File \u001b[0;32m~/.pyenv/versions/3.12.2/lib/python3.12/encodings/ascii.py:26\u001b[0m, in \u001b[0;36mIncrementalDecoder.decode\u001b[0;34m(self, input, final)\u001b[0m\n\u001b[1;32m     25\u001b[0m \u001b[38;5;28;01mdef\u001b[39;00m \u001b[38;5;21mdecode\u001b[39m(\u001b[38;5;28mself\u001b[39m, \u001b[38;5;28minput\u001b[39m, final\u001b[38;5;241m=\u001b[39m\u001b[38;5;28;01mFalse\u001b[39;00m):\n\u001b[0;32m---> 26\u001b[0m     \u001b[38;5;28;01mreturn\u001b[39;00m \u001b[43mcodecs\u001b[49m\u001b[38;5;241;43m.\u001b[39;49m\u001b[43mascii_decode\u001b[49m\u001b[43m(\u001b[49m\u001b[38;5;28;43minput\u001b[39;49m\u001b[43m,\u001b[49m\u001b[43m \u001b[49m\u001b[38;5;28;43mself\u001b[39;49m\u001b[38;5;241;43m.\u001b[39;49m\u001b[43merrors\u001b[49m\u001b[43m)\u001b[49m[\u001b[38;5;241m0\u001b[39m]\n",
      "\u001b[0;31mUnicodeDecodeError\u001b[0m: 'ascii' codec can't decode byte 0xc3 in position 2940: ordinal not in range(128)"
     ]
    }
   ],
   "source": [
    "f.readlines()"
   ]
  },
  {
   "cell_type": "markdown",
   "id": "272bb2bf-45ed-4a2a-975e-ad4462e2cc11",
   "metadata": {},
   "source": [
    "# OOP "
   ]
  },
  {
   "cell_type": "code",
   "execution_count": 15,
   "id": "04e04c99-4975-470c-ac25-2978a85223e1",
   "metadata": {},
   "outputs": [
    {
     "name": "stdout",
     "output_type": "stream",
     "text": [
      "<__main__.Voiture object at 0x10ab4eab0>\n",
      "demarrée\n"
     ]
    }
   ],
   "source": [
    "class Voiture:\n",
    "    pass \n",
    "\n",
    "ma_voiture = Voiture()\n",
    "print(ma_voiture)\n",
    "\n",
    "ma_voiture.status = \"demarrée\"\n",
    "print(ma_voiture.status)"
   ]
  },
  {
   "cell_type": "code",
   "execution_count": 18,
   "id": "93ed7a68-2307-47cb-b0be-0b7255ccf1b5",
   "metadata": {},
   "outputs": [
    {
     "name": "stdout",
     "output_type": "stream",
     "text": [
      "<__main__.Voiture object at 0x108a50fe0>\n",
      "arretee\n",
      "demarrée\n"
     ]
    }
   ],
   "source": [
    "class Voiture:\n",
    "    def __init__(self, status):\n",
    "        self.status = status\n",
    "\n",
    "ma_voiture = Voiture(\"arretee\")\n",
    "print(ma_voiture)\n",
    "print(ma_voiture.status)\n",
    "ma_voiture.status = \"demarrée\"\n",
    "print(ma_voiture.status)"
   ]
  },
  {
   "cell_type": "code",
   "execution_count": 23,
   "id": "98ffe6a9-283d-498d-9f54-613cf0d133e3",
   "metadata": {},
   "outputs": [],
   "source": [
    "class OnReflechitSurSelf:\n",
    "    def __init__(self):\n",
    "        print(self)\n",
    "\n",
    "    def une_methode(self):\n",
    "        print(\"dans une methode\", self)"
   ]
  },
  {
   "cell_type": "code",
   "execution_count": 27,
   "id": "9e3ba348-3951-4957-a4de-d6503ca66fc7",
   "metadata": {},
   "outputs": [
    {
     "name": "stdout",
     "output_type": "stream",
     "text": [
      "<__main__.OnReflechitSurSelf object at 0x10aaaf710>\n",
      "<__main__.OnReflechitSurSelf object at 0x10aaaf710>\n",
      "dans une methode <__main__.OnReflechitSurSelf object at 0x10aaaf710>\n",
      "None\n",
      "--------------------\n",
      "<__main__.OnReflechitSurSelf object at 0x10aaafe90>\n",
      "<__main__.OnReflechitSurSelf object at 0x10aaafe90>\n",
      "dans une methode <__main__.OnReflechitSurSelf object at 0x10aaafe90>\n",
      "None\n"
     ]
    }
   ],
   "source": [
    "obj = OnReflechitSurSelf()\n",
    "print(obj)\n",
    "print(obj.une_methode())\n",
    "print(\"-\"*20)\n",
    "autre_obj = OnReflechitSurSelf()\n",
    "print(autre_obj)\n",
    "print(autre_obj.une_methode())"
   ]
  },
  {
   "cell_type": "code",
   "execution_count": 63,
   "id": "434289c9-a71d-47d9-9e55-e4e8f7cf65bd",
   "metadata": {},
   "outputs": [
    {
     "name": "stdout",
     "output_type": "stream",
     "text": [
      "dans init mere\n",
      "<class '__main__.Fille'>\n",
      "True True\n",
      "dans init mere\n",
      "<class '__main__.Mere'>\n",
      "False True\n"
     ]
    }
   ],
   "source": [
    "class Mere:\n",
    "    def __init__(self):\n",
    "        print(\"dans init mere\")\n",
    "    \n",
    "    def methode(self):\n",
    "        print(\"dans mere methode 1\")\n",
    "\n",
    "    def methode2(self):\n",
    "        print(\"dans mere methode 2\")\n",
    "\n",
    "\n",
    "class Fille(Mere):\n",
    "    def __init__(self):\n",
    "        super().__init__()\n",
    "    \n",
    "    def methode(self):\n",
    "        print(\"dans fille methode 1\")\n",
    "        self.methode2()\n",
    "\n",
    "f = Fille()\n",
    "print(type(f))\n",
    "print(isinstance(f, Fille), isinstance(f, Mere))\n",
    "\n",
    "m = Mere()\n",
    "print(type(m))\n",
    "print(isinstance(m, Fille), isinstance(m, Mere))"
   ]
  },
  {
   "cell_type": "code",
   "execution_count": 64,
   "id": "7ff2d52b-b598-4573-b0e4-6afc7401951d",
   "metadata": {},
   "outputs": [
    {
     "name": "stdout",
     "output_type": "stream",
     "text": [
      "dans fille methode 1\n",
      "dans mere methode 2\n"
     ]
    }
   ],
   "source": [
    "f.methode()"
   ]
  },
  {
   "cell_type": "code",
   "execution_count": 101,
   "id": "8f58585e-d8a9-47c6-a6d0-ea33e22746d4",
   "metadata": {},
   "outputs": [
    {
     "name": "stdout",
     "output_type": "stream",
     "text": [
      "True\n",
      "True\n",
      "True\n",
      "True\n"
     ]
    }
   ],
   "source": [
    "class Personne:\n",
    "    AGE_MAJORITE = 18\n",
    "    \n",
    "    def __init__(self, nom, naissance):\n",
    "        self.nom = nom\n",
    "        self.naissance = naissance\n",
    "\n",
    "    def est_majeur(self):\n",
    "        annee = 2024\n",
    "        self.age = annee - self.naissance\n",
    "        return self.age >= self.AGE_MAJORITE\n",
    "\n",
    "    def __str__(self):\n",
    "        return f\"Bonjour, je m'appelle {self.nom} et je suis né en {self.naissance}\"\n",
    "        # return 'Yo, je suis {}'.format(self.nom)\n",
    "\n",
    "    def __gt__(self, other):\n",
    "        return self.naissance < other.naissance\n",
    "\n",
    "p1 = Personne(naissance=1990, nom=\"Matthieu\")\n",
    "p2 = Personne(naissance=2015, nom=\"Paul\")\n",
    "assert p1.est_majeur()\n",
    "assert not p2.est_majeur()\n",
    "\n",
    "Personne.AGE_MAJORITE = 40\n",
    "print(p1.est_majeur() == False)\n",
    "print(p2.est_majeur() == False)\n",
    "\n",
    "p1.AGE_MAJORITE = 16\n",
    "print(p1.est_majeur() == True)\n",
    "print(p2.est_majeur() == False)\n"
   ]
  },
  {
   "cell_type": "code",
   "execution_count": 102,
   "id": "423306a2-95cc-450b-8127-91cb37227a0d",
   "metadata": {},
   "outputs": [
    {
     "data": {
      "text/plain": [
       "(4388264288, 4388265056, 4388265056)"
      ]
     },
     "execution_count": 102,
     "metadata": {},
     "output_type": "execute_result"
    }
   ],
   "source": [
    "id(p1.AGE_MAJORITE), id(p2.AGE_MAJORITE), id(Personne.AGE_MAJORITE)"
   ]
  },
  {
   "cell_type": "code",
   "execution_count": 103,
   "id": "702c284c-0500-477f-aabc-e130d21967c3",
   "metadata": {},
   "outputs": [
    {
     "name": "stdout",
     "output_type": "stream",
     "text": [
      "Bonjour, je m'appelle Matthieu et je suis né en 1990\n",
      "Bonjour, je m'appelle Paul et je suis né en 2015\n"
     ]
    }
   ],
   "source": [
    "print(p1)\n",
    "print(p2)"
   ]
  },
  {
   "cell_type": "code",
   "execution_count": 104,
   "id": "8e0a320f-c933-4c5a-b7c0-eea3d40a6c54",
   "metadata": {},
   "outputs": [
    {
     "data": {
      "text/plain": [
       "True"
      ]
     },
     "execution_count": 104,
     "metadata": {},
     "output_type": "execute_result"
    }
   ],
   "source": [
    "p1 > p2"
   ]
  },
  {
   "cell_type": "code",
   "execution_count": 105,
   "id": "4f994e07-96f6-40d3-b7e7-79dcd327819d",
   "metadata": {},
   "outputs": [],
   "source": [
    "from pathlib import Path"
   ]
  },
  {
   "cell_type": "code",
   "execution_count": 119,
   "id": "db12343d-7cd9-4765-b8a4-9e696fbe9612",
   "metadata": {},
   "outputs": [
    {
     "name": "stdout",
     "output_type": "stream",
     "text": [
      "/../demo_path.py\n"
     ]
    }
   ],
   "source": [
    "p = Path(\"./\") / \"/../\" / \"demo_path.py\"\n",
    "print(p)"
   ]
  },
  {
   "cell_type": "code",
   "execution_count": null,
   "id": "b696da8d-4dc5-4bc2-95da-41199b3ab979",
   "metadata": {},
   "outputs": [],
   "source": []
  }
 ],
 "metadata": {
  "kernelspec": {
   "display_name": "Python 3 (ipykernel)",
   "language": "python",
   "name": "python3"
  },
  "language_info": {
   "codemirror_mode": {
    "name": "ipython",
    "version": 3
   },
   "file_extension": ".py",
   "mimetype": "text/x-python",
   "name": "python",
   "nbconvert_exporter": "python",
   "pygments_lexer": "ipython3",
   "version": "3.12.2"
  }
 },
 "nbformat": 4,
 "nbformat_minor": 5
}
