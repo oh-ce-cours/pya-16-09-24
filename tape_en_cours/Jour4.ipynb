{
 "cells": [
  {
   "cell_type": "markdown",
   "id": "13cd785e-3cc4-479a-ba84-1f5ae070725b",
   "metadata": {},
   "source": [
    "# Rappels\n",
    "\n",
    "* fonctions\n",
    "    * paramètres\n",
    "        * `args` / `kwargs`\n",
    "        * pas de paramètres mutables dans les définitions de fonctions (par exemple une liste) ! A la place, on met une valeur 'sentinelle' à `None` pour créer la variable à l'intérieur \n",
    "    * portées des variables : `Local Enclosing Global Builtin`\n",
    "    * les closures sont en lecture seule\n",
    "    * `@decorateur` -> `fonction = deco(fonction)`\n",
    "    * \n",
    "\n"
   ]
  },
  {
   "cell_type": "code",
   "execution_count": null,
   "id": "d879decc-7e6f-4775-a482-cddaff5902c7",
   "metadata": {},
   "outputs": [],
   "source": []
  }
 ],
 "metadata": {
  "kernelspec": {
   "display_name": "Python 3 (ipykernel)",
   "language": "python",
   "name": "python3"
  },
  "language_info": {
   "codemirror_mode": {
    "name": "ipython",
    "version": 3
   },
   "file_extension": ".py",
   "mimetype": "text/x-python",
   "name": "python",
   "nbconvert_exporter": "python",
   "pygments_lexer": "ipython3",
   "version": "3.12.2"
  }
 },
 "nbformat": 4,
 "nbformat_minor": 5
}
