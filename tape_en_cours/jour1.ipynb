{
 "cells": [
  {
   "cell_type": "markdown",
   "id": "fff7d5e3-4111-4f7d-8376-e3a680e9d433",
   "metadata": {},
   "source": [
    "# Rappel de la matinée \n",
    "\n",
    "* quizz\n",
    "* environnement virtuels\n",
    "    * cycle de vie\n",
    "        * création : `python -m venv NOM_DU_VENV`\n",
    "        * activation :\n",
    "            * sous UNIX : `source NOM_DU_VENV/bin/activate`\n",
    "            * sous Window : `NOM_DU_VENV\\Scripts\\activate`\n",
    "        * désactivation : `deactivate` / fermer le shell / redémarrer l'ordi \n",
    "        * suppression : on supprime le dossier (on s'assure que l'on a la liste des dépendances avant) \n",
    "    * à quoi ça sert :\n",
    "        * on peut cloisonner les projets (ne pas avoir de dépendances globales)\n",
    "        * facile l'installation / réinstallation / partage des projets\n",
    "    * comment ça marche ? Change le `path` de l'OS quand on l'active\n",
    "* installer des packages : on utilise `pip`\n",
    "    * `pip install PACKET_A_INSTALLER` => installe un paquet\n",
    "    * `pip freeze > requirements.txt` => liste les dépendances du projet\n",
    "    * `pip install -r requirements.txt` => installe les dépendances à partir du fichier de requirements.txt"
   ]
  },
  {
   "cell_type": "code",
   "execution_count": 2,
   "id": "732529bf-cf5c-4ab8-8105-728e1489dc8c",
   "metadata": {},
   "outputs": [],
   "source": [
    "def fib(n):\n",
    "    a, b = 0, 1\n",
    "    while a < n:\n",
    "        yield a\n",
    "        a, b = b, a+b\n"
   ]
  },
  {
   "cell_type": "code",
   "execution_count": 7,
   "id": "cec3a4f5-717e-434f-ade4-6604aaa23d68",
   "metadata": {},
   "outputs": [],
   "source": [
    "fib_beaucoup = fib(10_000_000_000)"
   ]
  },
  {
   "cell_type": "code",
   "execution_count": 8,
   "id": "84fcf134-4ef8-4e04-9ec4-e05e4fab1521",
   "metadata": {},
   "outputs": [
    {
     "name": "stdout",
     "output_type": "stream",
     "text": [
      "0\n",
      "1\n",
      "1\n",
      "2\n",
      "3\n",
      "5\n",
      "8\n",
      "13\n",
      "21\n",
      "34\n",
      "55\n",
      "89\n",
      "144\n",
      "233\n",
      "377\n",
      "610\n",
      "987\n",
      "1597\n"
     ]
    }
   ],
   "source": [
    "for i in fib_beaucoup:\n",
    "    print(i)\n",
    "    if i > 1000:\n",
    "        break "
   ]
  },
  {
   "cell_type": "code",
   "execution_count": 9,
   "id": "60064bb6-9bd5-45e1-9396-18823330d02b",
   "metadata": {},
   "outputs": [
    {
     "name": "stdout",
     "output_type": "stream",
     "text": [
      "2584\n",
      "4181\n",
      "6765\n"
     ]
    }
   ],
   "source": [
    "for i in fib_beaucoup:\n",
    "    print(i)\n",
    "    if i > 5000:\n",
    "        break "
   ]
  },
  {
   "cell_type": "markdown",
   "id": "a58a8b86-3855-4b55-9a62-974c8da58f1e",
   "metadata": {},
   "source": [
    "# fizzbuzz "
   ]
  },
  {
   "cell_type": "code",
   "execution_count": 10,
   "id": "e0ecf6e0-cdaa-4d89-8408-c14153c4e8ce",
   "metadata": {},
   "outputs": [
    {
     "name": "stdout",
     "output_type": "stream",
     "text": [
      "1\n",
      "2\n",
      "3\n",
      "4\n",
      "5\n",
      "6\n",
      "7\n",
      "8\n",
      "9\n",
      "10\n",
      "11\n",
      "12\n",
      "13\n",
      "14\n",
      "15\n",
      "16\n",
      "17\n",
      "18\n",
      "19\n",
      "20\n",
      "21\n",
      "22\n",
      "23\n",
      "24\n",
      "25\n",
      "26\n",
      "27\n",
      "28\n",
      "29\n",
      "30\n",
      "31\n",
      "32\n",
      "33\n",
      "34\n",
      "35\n",
      "36\n",
      "37\n",
      "38\n",
      "39\n",
      "40\n",
      "41\n",
      "42\n",
      "43\n",
      "44\n",
      "45\n",
      "46\n",
      "47\n",
      "48\n",
      "49\n",
      "50\n",
      "51\n",
      "52\n",
      "53\n",
      "54\n",
      "55\n",
      "56\n",
      "57\n",
      "58\n",
      "59\n",
      "60\n",
      "61\n",
      "62\n",
      "63\n",
      "64\n",
      "65\n",
      "66\n",
      "67\n",
      "68\n",
      "69\n",
      "70\n",
      "71\n",
      "72\n",
      "73\n",
      "74\n",
      "75\n",
      "76\n",
      "77\n",
      "78\n",
      "79\n",
      "80\n",
      "81\n",
      "82\n",
      "83\n",
      "84\n",
      "85\n",
      "86\n",
      "87\n",
      "88\n",
      "89\n",
      "90\n",
      "91\n",
      "92\n",
      "93\n",
      "94\n",
      "95\n",
      "96\n",
      "97\n",
      "98\n",
      "99\n",
      "100\n"
     ]
    }
   ],
   "source": [
    "for nombre in range(1, 101):\n",
    "    "
   ]
  },
  {
   "cell_type": "code",
   "execution_count": null,
   "id": "63be1ad5-1701-4e03-9650-a059a3541be0",
   "metadata": {},
   "outputs": [],
   "source": []
  }
 ],
 "metadata": {
  "kernelspec": {
   "display_name": "Python 3 (ipykernel)",
   "language": "python",
   "name": "python3"
  },
  "language_info": {
   "codemirror_mode": {
    "name": "ipython",
    "version": 3
   },
   "file_extension": ".py",
   "mimetype": "text/x-python",
   "name": "python",
   "nbconvert_exporter": "python",
   "pygments_lexer": "ipython3",
   "version": "3.12.2"
  }
 },
 "nbformat": 4,
 "nbformat_minor": 5
}
