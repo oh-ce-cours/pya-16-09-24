{
 "cells": [
  {
   "cell_type": "markdown",
   "id": "fff7d5e3-4111-4f7d-8376-e3a680e9d433",
   "metadata": {},
   "source": [
    "# Rappel de la matinée \n",
    "\n",
    "* quizz\n",
    "* environnement virtuels\n",
    "    * cycle de vie\n",
    "        * création : `python -m venv NOM_DU_VENV`\n",
    "        * activation :\n",
    "            * sous UNIX : `source NOM_DU_VENV/bin/activate`\n",
    "            * sous Window : `NOM_DU_VENV\\Scripts\\activate`\n",
    "        * désactivation : `deactivate` / fermer le shell / redémarrer l'ordi \n",
    "        * suppression : on supprime le dossier (on s'assure que l'on a la liste des dépendances avant) \n",
    "    * à quoi ça sert :\n",
    "        * on peut cloisonner les projets (ne pas avoir de dépendances globales)\n",
    "        * facile l'installation / réinstallation / partage des projets\n",
    "    * comment ça marche ? Change le `path` de l'OS quand on l'active\n",
    "* installer des packages : on utilise `pip`\n",
    "    * `pip install PACKET_A_INSTALLER` => installe un paquet\n",
    "    * `pip freeze > requirements.txt` => liste les dépendances du projet\n",
    "    * `pip install -r requirements.txt` => installe les dépendances à partir du fichier de requirements.txt"
   ]
  },
  {
   "cell_type": "code",
   "execution_count": null,
   "id": "732529bf-cf5c-4ab8-8105-728e1489dc8c",
   "metadata": {},
   "outputs": [],
   "source": []
  }
 ],
 "metadata": {
  "kernelspec": {
   "display_name": "Python 3 (ipykernel)",
   "language": "python",
   "name": "python3"
  },
  "language_info": {
   "codemirror_mode": {
    "name": "ipython",
    "version": 3
   },
   "file_extension": ".py",
   "mimetype": "text/x-python",
   "name": "python",
   "nbconvert_exporter": "python",
   "pygments_lexer": "ipython3",
   "version": "3.12.2"
  }
 },
 "nbformat": 4,
 "nbformat_minor": 5
}
