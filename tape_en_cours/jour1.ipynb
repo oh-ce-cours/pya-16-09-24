{
 "cells": [
  {
   "cell_type": "markdown",
   "id": "fff7d5e3-4111-4f7d-8376-e3a680e9d433",
   "metadata": {},
   "source": [
    "# Rappel de la matinée \n",
    "\n",
    "* quizz\n",
    "* environnement virtuels\n",
    "    * cycle de vie\n",
    "        * création : `python -m venv NOM_DU_VENV`\n",
    "        * activation :\n",
    "            * sous UNIX : `source NOM_DU_VENV/bin/activate`\n",
    "            * sous Window : `NOM_DU_VENV\\Scripts\\activate`\n",
    "        * désactivation : `deactivate` / fermer le shell / redémarrer l'ordi \n",
    "        * suppression : on supprime le dossier (on s'assure que l'on a la liste des dépendances avant) \n",
    "    * à quoi ça sert :\n",
    "        * on peut cloisonner les projets (ne pas avoir de dépendances globales)\n",
    "        * facile l'installation / réinstallation / partage des projets\n",
    "    * comment ça marche ? Change le `path` de l'OS quand on l'active\n",
    "* installer des packages : on utilise `pip`\n",
    "    * `pip install PACKET_A_INSTALLER` => installe un paquet\n",
    "    * `pip freeze > requirements.txt` => liste les dépendances du projet\n",
    "    * `pip install -r requirements.txt` => installe les dépendances à partir du fichier de requirements.txt"
   ]
  },
  {
   "cell_type": "code",
   "execution_count": 2,
   "id": "732529bf-cf5c-4ab8-8105-728e1489dc8c",
   "metadata": {},
   "outputs": [],
   "source": [
    "def fib(n):\n",
    "    a, b = 0, 1\n",
    "    while a < n:\n",
    "        yield a\n",
    "        a, b = b, a+b\n"
   ]
  },
  {
   "cell_type": "code",
   "execution_count": 7,
   "id": "cec3a4f5-717e-434f-ade4-6604aaa23d68",
   "metadata": {},
   "outputs": [],
   "source": [
    "fib_beaucoup = fib(10_000_000_000)"
   ]
  },
  {
   "cell_type": "code",
   "execution_count": 8,
   "id": "84fcf134-4ef8-4e04-9ec4-e05e4fab1521",
   "metadata": {},
   "outputs": [
    {
     "name": "stdout",
     "output_type": "stream",
     "text": [
      "0\n",
      "1\n",
      "1\n",
      "2\n",
      "3\n",
      "5\n",
      "8\n",
      "13\n",
      "21\n",
      "34\n",
      "55\n",
      "89\n",
      "144\n",
      "233\n",
      "377\n",
      "610\n",
      "987\n",
      "1597\n"
     ]
    }
   ],
   "source": [
    "for i in fib_beaucoup:\n",
    "    print(i)\n",
    "    if i > 1000:\n",
    "        break "
   ]
  },
  {
   "cell_type": "code",
   "execution_count": 9,
   "id": "60064bb6-9bd5-45e1-9396-18823330d02b",
   "metadata": {},
   "outputs": [
    {
     "name": "stdout",
     "output_type": "stream",
     "text": [
      "2584\n",
      "4181\n",
      "6765\n"
     ]
    }
   ],
   "source": [
    "for i in fib_beaucoup:\n",
    "    print(i)\n",
    "    if i > 5000:\n",
    "        break "
   ]
  },
  {
   "cell_type": "markdown",
   "id": "a58a8b86-3855-4b55-9a62-974c8da58f1e",
   "metadata": {},
   "source": [
    "# fizzbuzz "
   ]
  },
  {
   "cell_type": "code",
   "execution_count": 27,
   "id": "e0ecf6e0-cdaa-4d89-8408-c14153c4e8ce",
   "metadata": {},
   "outputs": [
    {
     "name": "stdout",
     "output_type": "stream",
     "text": [
      "1\n",
      "2\n",
      "fizz\n",
      "4\n",
      "buzz\n",
      "fizz\n",
      "7\n",
      "8\n",
      "fizz\n",
      "buzz\n",
      "11\n",
      "fizz\n",
      "13\n",
      "14\n",
      "fizzbuzz\n"
     ]
    }
   ],
   "source": [
    "for nombre in range(1, 16):\n",
    "    if nombre % 3 == 0 and nombre % 5 == 0:\n",
    "        print(\"fizzbuzz\")\n",
    "    elif nombre % 3 == 0:\n",
    "        print(\"fizz\")\n",
    "    elif nombre % 5 == 0:\n",
    "        print(\"buzz\")\n",
    "    else:\n",
    "        print(nombre)"
   ]
  },
  {
   "cell_type": "code",
   "execution_count": 28,
   "id": "63be1ad5-1701-4e03-9650-a059a3541be0",
   "metadata": {},
   "outputs": [
    {
     "name": "stdout",
     "output_type": "stream",
     "text": [
      "1\n",
      "2\n",
      "fizz\n",
      "4\n",
      "buzz\n",
      "fizz\n",
      "7\n",
      "8\n",
      "fizz\n",
      "buzz\n",
      "11\n",
      "fizz\n",
      "13\n",
      "14\n",
      "fizzbuzz\n"
     ]
    }
   ],
   "source": [
    "for nombre in range(1, 16):\n",
    "    match nombre % 3, nombre % 5:\n",
    "        case 0, 0:\n",
    "            print(\"fizzbuzz\")\n",
    "        case 0, _:\n",
    "            print(\"fizz\")\n",
    "        case _, 0:\n",
    "            print(\"buzz\")\n",
    "        case _, _:\n",
    "            print(nombre)"
   ]
  },
  {
   "cell_type": "code",
   "execution_count": 29,
   "id": "ef66b5f1-81a8-4039-89e0-1cf5f581f2d3",
   "metadata": {},
   "outputs": [
    {
     "name": "stdout",
     "output_type": "stream",
     "text": [
      "1\n",
      "2\n",
      "fizz\n",
      "4\n",
      "buzz\n",
      "fizz\n",
      "7\n",
      "8\n",
      "fizz\n",
      "buzz\n",
      "11\n",
      "fizz\n",
      "13\n",
      "14\n",
      "fizzbuzz\n"
     ]
    }
   ],
   "source": [
    "for nombre in range(1, 16):\n",
    "    match nombre % 3 == 0, nombre % 5 == 0:\n",
    "        case True, True:\n",
    "            print(\"fizzbuzz\")\n",
    "        case True, False:\n",
    "            print(\"fizz\")\n",
    "        case False, True:\n",
    "            print(\"buzz\")\n",
    "        case False, False:\n",
    "            print(nombre)"
   ]
  },
  {
   "cell_type": "code",
   "execution_count": 37,
   "id": "73059ea8-4299-45d3-8d03-0697a302c1c0",
   "metadata": {},
   "outputs": [
    {
     "name": "stdout",
     "output_type": "stream",
     "text": [
      "1\n",
      "2\n",
      "fizz\n",
      "4\n",
      "buzz\n",
      "fizz\n",
      "7\n",
      "8\n",
      "fizz\n",
      "buzz\n",
      "11\n",
      "fizz\n",
      "13\n",
      "14\n",
      "fizzbuzz\n"
     ]
    }
   ],
   "source": [
    "for nombre in range(1, 16):\n",
    "    a = \"\"\n",
    "    b = \"\"\n",
    "    c = str(nombre)\n",
    "    if nombre % 3 == 0:\n",
    "        a = \"fizz\"\n",
    "        c = \"\"\n",
    "    if nombre % 5 == 0:\n",
    "        b = \"buzz\"\n",
    "        c = \"\"\n",
    "    print(a + b + c)"
   ]
  },
  {
   "cell_type": "code",
   "execution_count": 40,
   "id": "2b93dc01-01e1-49f0-a56d-bb749ccc7f54",
   "metadata": {},
   "outputs": [
    {
     "name": "stdout",
     "output_type": "stream",
     "text": [
      "1\n",
      "2\n",
      "fizz\n",
      "4\n",
      "buzz\n",
      "fizz\n",
      "7\n",
      "8\n",
      "fizz\n",
      "buzz\n",
      "11\n",
      "fizz\n",
      "13\n",
      "14\n",
      "fizzbuzz\n"
     ]
    }
   ],
   "source": [
    "for nombre in range(1, 16):\n",
    "    res = \"\"\n",
    "    if nombre % 3 == 0:\n",
    "        res += \"fizz\"\n",
    "    if nombre % 5 == 0:\n",
    "        res += \"buzz\"\n",
    "    if not res:\n",
    "        res = str(nombre)\n",
    "    print(res)"
   ]
  },
  {
   "cell_type": "code",
   "execution_count": 41,
   "id": "d0adccec-55d0-4213-8188-3b0e5e480765",
   "metadata": {},
   "outputs": [
    {
     "data": {
      "text/plain": [
       "\u001b[0;31mSignature:\u001b[0m \u001b[0mid\u001b[0m\u001b[0;34m(\u001b[0m\u001b[0mobj\u001b[0m\u001b[0;34m,\u001b[0m \u001b[0;34m/\u001b[0m\u001b[0;34m)\u001b[0m\u001b[0;34m\u001b[0m\u001b[0;34m\u001b[0m\u001b[0m\n",
       "\u001b[0;31mDocstring:\u001b[0m\n",
       "Return the identity of an object.\n",
       "\n",
       "This is guaranteed to be unique among simultaneously existing objects.\n",
       "(CPython uses the object's memory address.)\n",
       "\u001b[0;31mType:\u001b[0m      builtin_function_or_method"
      ]
     },
     "metadata": {},
     "output_type": "display_data"
    }
   ],
   "source": [
    "id?"
   ]
  },
  {
   "cell_type": "code",
   "execution_count": 42,
   "id": "32553cad-d851-414e-8c07-c25965311374",
   "metadata": {},
   "outputs": [
    {
     "name": "stdout",
     "output_type": "stream",
     "text": [
      "Help on built-in function id in module builtins:\n",
      "\n",
      "id(obj, /)\n",
      "    Return the identity of an object.\n",
      "\n",
      "    This is guaranteed to be unique among simultaneously existing objects.\n",
      "    (CPython uses the object's memory address.)\n",
      "\n"
     ]
    }
   ],
   "source": [
    "help(id)"
   ]
  },
  {
   "cell_type": "code",
   "execution_count": 44,
   "id": "ca5b6ac5-745b-4169-bede-256430dd302c",
   "metadata": {},
   "outputs": [
    {
     "name": "stdout",
     "output_type": "stream",
     "text": [
      "4641933904\n",
      "4641621296\n"
     ]
    }
   ],
   "source": [
    "a = \"salut\"\n",
    "print(id(a))\n",
    "a += \" les gars\"\n",
    "print(id(a))"
   ]
  },
  {
   "cell_type": "code",
   "execution_count": null,
   "id": "cdeb4fb4-7f2f-452b-85a5-f1e53f714665",
   "metadata": {},
   "outputs": [],
   "source": []
  }
 ],
 "metadata": {
  "kernelspec": {
   "display_name": "Python 3 (ipykernel)",
   "language": "python",
   "name": "python3"
  },
  "language_info": {
   "codemirror_mode": {
    "name": "ipython",
    "version": 3
   },
   "file_extension": ".py",
   "mimetype": "text/x-python",
   "name": "python",
   "nbconvert_exporter": "python",
   "pygments_lexer": "ipython3",
   "version": "3.12.2"
  }
 },
 "nbformat": 4,
 "nbformat_minor": 5
}
