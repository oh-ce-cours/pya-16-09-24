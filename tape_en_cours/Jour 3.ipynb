{
 "cells": [
  {
   "cell_type": "markdown",
   "id": "a97f5c46-757e-4b35-b046-ed8d82d473d9",
   "metadata": {},
   "source": [
    "# Fonctions d'ordres supérieurs"
   ]
  },
  {
   "cell_type": "code",
   "execution_count": 1,
   "id": "bdde4ec0-c539-406a-b307-a3b74daa38b7",
   "metadata": {},
   "outputs": [
    {
     "data": {
      "text/plain": [
       "\u001b[0;31mSignature:\u001b[0m \u001b[0msorted\u001b[0m\u001b[0;34m(\u001b[0m\u001b[0miterable\u001b[0m\u001b[0;34m,\u001b[0m \u001b[0;34m/\u001b[0m\u001b[0;34m,\u001b[0m \u001b[0;34m*\u001b[0m\u001b[0;34m,\u001b[0m \u001b[0mkey\u001b[0m\u001b[0;34m=\u001b[0m\u001b[0;32mNone\u001b[0m\u001b[0;34m,\u001b[0m \u001b[0mreverse\u001b[0m\u001b[0;34m=\u001b[0m\u001b[0;32mFalse\u001b[0m\u001b[0;34m)\u001b[0m\u001b[0;34m\u001b[0m\u001b[0;34m\u001b[0m\u001b[0m\n",
       "\u001b[0;31mDocstring:\u001b[0m\n",
       "Return a new list containing all items from the iterable in ascending order.\n",
       "\n",
       "A custom key function can be supplied to customize the sort order, and the\n",
       "reverse flag can be set to request the result in descending order.\n",
       "\u001b[0;31mType:\u001b[0m      builtin_function_or_method"
      ]
     },
     "metadata": {},
     "output_type": "display_data"
    }
   ],
   "source": [
    "sorted?"
   ]
  },
  {
   "cell_type": "code",
   "execution_count": 2,
   "id": "860052c9-ec5c-40c4-8c7a-fb6f4f4fcc29",
   "metadata": {},
   "outputs": [
    {
     "data": {
      "text/plain": [
       "(1, 2)"
      ]
     },
     "execution_count": 2,
     "metadata": {},
     "output_type": "execute_result"
    }
   ],
   "source": [
    "def f(param1, param2):\n",
    "    return param1, param2\n",
    "\n",
    "f(1, 2)"
   ]
  },
  {
   "cell_type": "code",
   "execution_count": 6,
   "id": "b632893f-67f9-4ff5-8fe2-4ad32efccd85",
   "metadata": {},
   "outputs": [
    {
     "data": {
      "text/plain": [
       "(1, 2)"
      ]
     },
     "execution_count": 6,
     "metadata": {},
     "output_type": "execute_result"
    }
   ],
   "source": [
    "f = lambda param1, param2: (param1, param2)\n",
    "f(1, 2)"
   ]
  },
  {
   "cell_type": "code",
   "execution_count": 7,
   "id": "c579b612-9680-4fdc-9417-34d1bd784702",
   "metadata": {},
   "outputs": [
    {
     "data": {
      "text/plain": [
       "(1, 2)"
      ]
     },
     "execution_count": 7,
     "metadata": {},
     "output_type": "execute_result"
    }
   ],
   "source": [
    "(lambda param1, param2: (param1, param2))(1, 2)"
   ]
  },
  {
   "cell_type": "code",
   "execution_count": 9,
   "id": "67be2848-b755-4f71-a653-a17c3cb463dd",
   "metadata": {},
   "outputs": [
    {
     "data": {
      "text/plain": [
       "[0, 1, 4, 9, 16, 25, 36, 49, 64, 81]"
      ]
     },
     "execution_count": 9,
     "metadata": {},
     "output_type": "execute_result"
    }
   ],
   "source": [
    "list(map(lambda x: x*x, range(10)))"
   ]
  },
  {
   "cell_type": "code",
   "execution_count": 21,
   "id": "a49f90fc-3b1d-4027-8608-8880bdf1f898",
   "metadata": {},
   "outputs": [
    {
     "data": {
      "text/plain": [
       "[(3, 'a'), (1, 'c'), (2, 'b')]"
      ]
     },
     "execution_count": 21,
     "metadata": {},
     "output_type": "execute_result"
    }
   ],
   "source": [
    "import random\n",
    "l = [(1, \"c\"), (2, \"b\"), (3, \"a\")]\n",
    "\n",
    "def key(item):\n",
    "    print(item)\n",
    "    return item[1]\n",
    "\n",
    "def key(item):\n",
    "    return random.random()\n",
    "\n",
    "sorted(l, key=key)"
   ]
  },
  {
   "cell_type": "code",
   "execution_count": null,
   "id": "aacabce2-c58a-4d78-b1ca-83e0a581ba74",
   "metadata": {},
   "outputs": [],
   "source": []
  },
  {
   "cell_type": "code",
   "execution_count": 22,
   "id": "e14d2172-bdbe-488f-a00f-4fc0ac58974c",
   "metadata": {},
   "outputs": [],
   "source": [
    "from datetime import date\n",
    "user = \"eric_idle\"\n",
    "member_since = date(1975, 7, 31)\n",
    "delta = date(2022, 4, 11) - member_since\n"
   ]
  },
  {
   "cell_type": "code",
   "execution_count": 27,
   "id": "5d5e75be-7802-434a-9f05-6755060cd793",
   "metadata": {},
   "outputs": [
    {
     "data": {
      "text/plain": [
       "'user=eric_idle  delta.days=17056'"
      ]
     },
     "execution_count": 27,
     "metadata": {},
     "output_type": "execute_result"
    }
   ],
   "source": [
    "f\"{user=!s}  {delta.days=:}\""
   ]
  },
  {
   "cell_type": "code",
   "execution_count": null,
   "id": "46f0f68c-72d3-4618-9905-27c753ad8df4",
   "metadata": {},
   "outputs": [],
   "source": []
  }
 ],
 "metadata": {
  "kernelspec": {
   "display_name": "Python 3 (ipykernel)",
   "language": "python",
   "name": "python3"
  },
  "language_info": {
   "codemirror_mode": {
    "name": "ipython",
    "version": 3
   },
   "file_extension": ".py",
   "mimetype": "text/x-python",
   "name": "python",
   "nbconvert_exporter": "python",
   "pygments_lexer": "ipython3",
   "version": "3.12.2"
  }
 },
 "nbformat": 4,
 "nbformat_minor": 5
}
