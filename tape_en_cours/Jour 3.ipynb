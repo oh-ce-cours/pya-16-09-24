{
 "cells": [
  {
   "cell_type": "markdown",
   "id": "a97f5c46-757e-4b35-b046-ed8d82d473d9",
   "metadata": {},
   "source": [
    "# Fonctions d'ordres supérieurs"
   ]
  },
  {
   "cell_type": "code",
   "execution_count": 1,
   "id": "bdde4ec0-c539-406a-b307-a3b74daa38b7",
   "metadata": {},
   "outputs": [
    {
     "data": {
      "text/plain": [
       "\u001b[0;31mSignature:\u001b[0m \u001b[0msorted\u001b[0m\u001b[0;34m(\u001b[0m\u001b[0miterable\u001b[0m\u001b[0;34m,\u001b[0m \u001b[0;34m/\u001b[0m\u001b[0;34m,\u001b[0m \u001b[0;34m*\u001b[0m\u001b[0;34m,\u001b[0m \u001b[0mkey\u001b[0m\u001b[0;34m=\u001b[0m\u001b[0;32mNone\u001b[0m\u001b[0;34m,\u001b[0m \u001b[0mreverse\u001b[0m\u001b[0;34m=\u001b[0m\u001b[0;32mFalse\u001b[0m\u001b[0;34m)\u001b[0m\u001b[0;34m\u001b[0m\u001b[0;34m\u001b[0m\u001b[0m\n",
       "\u001b[0;31mDocstring:\u001b[0m\n",
       "Return a new list containing all items from the iterable in ascending order.\n",
       "\n",
       "A custom key function can be supplied to customize the sort order, and the\n",
       "reverse flag can be set to request the result in descending order.\n",
       "\u001b[0;31mType:\u001b[0m      builtin_function_or_method"
      ]
     },
     "metadata": {},
     "output_type": "display_data"
    }
   ],
   "source": [
    "sorted?"
   ]
  },
  {
   "cell_type": "code",
   "execution_count": 2,
   "id": "860052c9-ec5c-40c4-8c7a-fb6f4f4fcc29",
   "metadata": {},
   "outputs": [
    {
     "data": {
      "text/plain": [
       "(1, 2)"
      ]
     },
     "execution_count": 2,
     "metadata": {},
     "output_type": "execute_result"
    }
   ],
   "source": [
    "def f(param1, param2):\n",
    "    return param1, param2\n",
    "\n",
    "f(1, 2)"
   ]
  },
  {
   "cell_type": "code",
   "execution_count": 6,
   "id": "b632893f-67f9-4ff5-8fe2-4ad32efccd85",
   "metadata": {},
   "outputs": [
    {
     "data": {
      "text/plain": [
       "(1, 2)"
      ]
     },
     "execution_count": 6,
     "metadata": {},
     "output_type": "execute_result"
    }
   ],
   "source": [
    "f = lambda param1, param2: (param1, param2)\n",
    "f(1, 2)"
   ]
  },
  {
   "cell_type": "code",
   "execution_count": 7,
   "id": "c579b612-9680-4fdc-9417-34d1bd784702",
   "metadata": {},
   "outputs": [
    {
     "data": {
      "text/plain": [
       "(1, 2)"
      ]
     },
     "execution_count": 7,
     "metadata": {},
     "output_type": "execute_result"
    }
   ],
   "source": [
    "(lambda param1, param2: (param1, param2))(1, 2)"
   ]
  },
  {
   "cell_type": "code",
   "execution_count": 9,
   "id": "67be2848-b755-4f71-a653-a17c3cb463dd",
   "metadata": {},
   "outputs": [
    {
     "data": {
      "text/plain": [
       "[0, 1, 4, 9, 16, 25, 36, 49, 64, 81]"
      ]
     },
     "execution_count": 9,
     "metadata": {},
     "output_type": "execute_result"
    }
   ],
   "source": [
    "list(map(lambda x: x*x, range(10)))"
   ]
  },
  {
   "cell_type": "code",
   "execution_count": 21,
   "id": "a49f90fc-3b1d-4027-8608-8880bdf1f898",
   "metadata": {},
   "outputs": [
    {
     "data": {
      "text/plain": [
       "[(3, 'a'), (1, 'c'), (2, 'b')]"
      ]
     },
     "execution_count": 21,
     "metadata": {},
     "output_type": "execute_result"
    }
   ],
   "source": [
    "import random\n",
    "l = [(1, \"c\"), (2, \"b\"), (3, \"a\")]\n",
    "\n",
    "def key(item):\n",
    "    print(item)\n",
    "    return item[1]\n",
    "\n",
    "def key(item):\n",
    "    return random.random()\n",
    "\n",
    "sorted(l, key=key)"
   ]
  },
  {
   "cell_type": "code",
   "execution_count": null,
   "id": "aacabce2-c58a-4d78-b1ca-83e0a581ba74",
   "metadata": {},
   "outputs": [],
   "source": []
  },
  {
   "cell_type": "code",
   "execution_count": 34,
   "id": "e14d2172-bdbe-488f-a00f-4fc0ac58974c",
   "metadata": {},
   "outputs": [
    {
     "name": "stdout",
     "output_type": "stream",
     "text": [
      "{}\n",
      "{'a': 1, 'b': 2}\n",
      "{'a': 1, 'b': 3, 'd': 4}\n"
     ]
    }
   ],
   "source": [
    "a = {\"a\": 1, \"b\": 2}\n",
    "b = {\"b\": 3, \"d\": 4}\n",
    "\n",
    "res = {}\n",
    "print(res)\n",
    "res.update(a)\n",
    "print(res)\n",
    "res.update(b)\n",
    "print(res)"
   ]
  },
  {
   "cell_type": "code",
   "execution_count": 35,
   "id": "5d5e75be-7802-434a-9f05-6755060cd793",
   "metadata": {},
   "outputs": [
    {
     "name": "stdout",
     "output_type": "stream",
     "text": [
      "{'a': 1, 'b': 3, 'd': 4}\n"
     ]
    }
   ],
   "source": [
    "res = {**a, **b}\n",
    "print(res)"
   ]
  },
  {
   "cell_type": "code",
   "execution_count": 52,
   "id": "46f0f68c-72d3-4618-9905-27c753ad8df4",
   "metadata": {},
   "outputs": [],
   "source": [
    "variable = 1\n",
    "\n",
    "def g():\n",
    "    print(variable)\n",
    "\n",
    "def f():\n",
    "    variable = variable + 1"
   ]
  },
  {
   "cell_type": "code",
   "execution_count": 43,
   "id": "06b06974-3c26-403f-94ee-7a329e113420",
   "metadata": {},
   "outputs": [
    {
     "name": "stdout",
     "output_type": "stream",
     "text": [
      "1\n",
      "2\n"
     ]
    },
    {
     "ename": "UnboundLocalError",
     "evalue": "cannot access local variable 'variable' where it is not associated with a value",
     "output_type": "error",
     "traceback": [
      "\u001b[0;31m---------------------------------------------------------------------------\u001b[0m",
      "\u001b[0;31mUnboundLocalError\u001b[0m                         Traceback (most recent call last)",
      "Cell \u001b[0;32mIn[43], line 2\u001b[0m\n\u001b[1;32m      1\u001b[0m g()\n\u001b[0;32m----> 2\u001b[0m \u001b[43mf\u001b[49m\u001b[43m(\u001b[49m\u001b[43m)\u001b[49m\n",
      "Cell \u001b[0;32mIn[42], line 8\u001b[0m, in \u001b[0;36mf\u001b[0;34m()\u001b[0m\n\u001b[1;32m      7\u001b[0m \u001b[38;5;28;01mdef\u001b[39;00m \u001b[38;5;21mf\u001b[39m():\n\u001b[0;32m----> 8\u001b[0m     variable \u001b[38;5;241m=\u001b[39m \u001b[43mvariable\u001b[49m \u001b[38;5;241m+\u001b[39m \u001b[38;5;241m1\u001b[39m\n",
      "\u001b[0;31mUnboundLocalError\u001b[0m: cannot access local variable 'variable' where it is not associated with a value"
     ]
    }
   ],
   "source": [
    "g()\n",
    "f()"
   ]
  },
  {
   "cell_type": "code",
   "execution_count": 46,
   "id": "bf2b5a28-d3c5-43a2-bf72-3d2285ff9e22",
   "metadata": {},
   "outputs": [
    {
     "name": "stdout",
     "output_type": "stream",
     "text": [
      "<built-in function print>\n"
     ]
    }
   ],
   "source": [
    "print(print)"
   ]
  },
  {
   "cell_type": "code",
   "execution_count": 47,
   "id": "37f29cbf-1db9-401b-a036-6d3f6c324963",
   "metadata": {},
   "outputs": [],
   "source": [
    "print = 1"
   ]
  },
  {
   "cell_type": "code",
   "execution_count": 48,
   "id": "89fb2339-de52-4e3a-8333-78114fbdab15",
   "metadata": {},
   "outputs": [
    {
     "ename": "TypeError",
     "evalue": "'int' object is not callable",
     "output_type": "error",
     "traceback": [
      "\u001b[0;31m---------------------------------------------------------------------------\u001b[0m",
      "\u001b[0;31mTypeError\u001b[0m                                 Traceback (most recent call last)",
      "Cell \u001b[0;32mIn[48], line 1\u001b[0m\n\u001b[0;32m----> 1\u001b[0m \u001b[38;5;28;43mprint\u001b[39;49m\u001b[43m(\u001b[49m\u001b[38;5;124;43m\"\u001b[39;49m\u001b[38;5;124;43mtoto\u001b[39;49m\u001b[38;5;124;43m\"\u001b[39;49m\u001b[43m)\u001b[49m\n",
      "\u001b[0;31mTypeError\u001b[0m: 'int' object is not callable"
     ]
    }
   ],
   "source": [
    "print(\"toto\")"
   ]
  },
  {
   "cell_type": "code",
   "execution_count": 49,
   "id": "f92f02a2-4a26-478e-a28a-10c61e0e6638",
   "metadata": {},
   "outputs": [],
   "source": [
    "import builtins"
   ]
  },
  {
   "cell_type": "code",
   "execution_count": 50,
   "id": "6bb1abd8-90b9-4fbf-9f19-b0fd097d8e13",
   "metadata": {},
   "outputs": [],
   "source": [
    "print = builtins.print"
   ]
  },
  {
   "cell_type": "code",
   "execution_count": 51,
   "id": "1e495140-7709-4868-b849-f6a6f239e452",
   "metadata": {},
   "outputs": [
    {
     "name": "stdout",
     "output_type": "stream",
     "text": [
      "toto\n"
     ]
    }
   ],
   "source": [
    "print(\"toto\")"
   ]
  },
  {
   "cell_type": "code",
   "execution_count": 53,
   "id": "647c619c-7740-44cb-8661-96d8e9078d4f",
   "metadata": {},
   "outputs": [
    {
     "name": "stdout",
     "output_type": "stream",
     "text": [
      "10\n",
      "1234\n"
     ]
    }
   ],
   "source": [
    "variable = 10\n",
    "g()\n",
    "variable = 1234\n",
    "g()"
   ]
  },
  {
   "cell_type": "code",
   "execution_count": 58,
   "id": "7547e4e1-65f0-432b-9480-c89677bd4c0f",
   "metadata": {},
   "outputs": [
    {
     "name": "stdout",
     "output_type": "stream",
     "text": [
      "9\n",
      "3\n",
      "4\n",
      "5\n"
     ]
    }
   ],
   "source": [
    "functions = []\n",
    "for nombre in range(10):\n",
    "    functions.append(lambda x, nombre=nombre: x + nombre)\n",
    "\n",
    "print(nombre)\n",
    "print(functions[0](3))\n",
    "print(functions[1](3))\n",
    "print(functions[2](3))\n"
   ]
  },
  {
   "cell_type": "code",
   "execution_count": 61,
   "id": "74292f77-e237-44f7-9515-11e65aa94290",
   "metadata": {},
   "outputs": [
    {
     "name": "stdout",
     "output_type": "stream",
     "text": [
      "1\n",
      "2\n",
      "3\n",
      "dans my list\n",
      "4391487616\n",
      "4\n",
      "dans my list\n",
      "4397486144\n",
      "['riri'] ['fifi']\n",
      "4391487616 4397486144\n"
     ]
    }
   ],
   "source": [
    "print(1)\n",
    "def my_list():\n",
    "    print(\"dans my list\")\n",
    "    res = []\n",
    "    print(id(res))\n",
    "    return res\n",
    "\n",
    "print(2)\n",
    "\n",
    "#def append(a, l=my_list()):\n",
    "#    l.append(a)\n",
    "#    return l\n",
    "\n",
    "def append(a, l=None):\n",
    "    if l is None:\n",
    "        l = my_list()\n",
    "    l.append(a)\n",
    "    return l\n",
    "\n",
    "print(3)\n",
    "\n",
    "l1 = append(\"riri\")\n",
    "print(4)\n",
    "l2 = append(\"fifi\")\n",
    "print(l1, l2)\n",
    "print(id(l1), id(l2))"
   ]
  },
  {
   "cell_type": "code",
   "execution_count": 67,
   "id": "8932ee26-0e51-4551-adec-6ba5a3da15c6",
   "metadata": {},
   "outputs": [
    {
     "ename": "TypeError",
     "evalue": "'NoneType' object is not callable",
     "output_type": "error",
     "traceback": [
      "\u001b[0;31m---------------------------------------------------------------------------\u001b[0m",
      "\u001b[0;31mTypeError\u001b[0m                                 Traceback (most recent call last)",
      "Cell \u001b[0;32mIn[67], line 7\u001b[0m\n\u001b[1;32m      4\u001b[0m             \u001b[38;5;28;01mreturn\u001b[39;00m nombre \u001b[38;5;241m+\u001b[39m autre_nombre \u001b[38;5;241m+\u001b[39m encore_un_autre\n\u001b[1;32m      5\u001b[0m     \u001b[38;5;28;01mreturn\u001b[39;00m ajouter\n\u001b[0;32m----> 7\u001b[0m \u001b[43majoute_avec\u001b[49m\u001b[43m(\u001b[49m\u001b[38;5;241;43m10\u001b[39;49m\u001b[43m)\u001b[49m\u001b[43m(\u001b[49m\u001b[38;5;241;43m3\u001b[39;49m\u001b[43m)\u001b[49m\u001b[43m(\u001b[49m\u001b[38;5;241;43m5\u001b[39;49m\u001b[43m)\u001b[49m\n",
      "\u001b[0;31mTypeError\u001b[0m: 'NoneType' object is not callable"
     ]
    }
   ],
   "source": [
    "def ajoute_avec(nombre):\n",
    "    def ajouter(autre_nombre):\n",
    "        def encore(encore_un_autre):\n",
    "            return nombre + autre_nombre + encore_un_autre\n",
    "    return ajouter\n",
    "\n",
    "ajoute_avec(10)(3)(5)"
   ]
  },
  {
   "cell_type": "code",
   "execution_count": null,
   "id": "f0619aba-cf6d-4157-b5c0-83b274b25fad",
   "metadata": {},
   "outputs": [],
   "source": []
  },
  {
   "cell_type": "code",
   "execution_count": null,
   "id": "ad6b73e1-e134-4b88-b19e-3ca17e8601b1",
   "metadata": {},
   "outputs": [],
   "source": []
  }
 ],
 "metadata": {
  "kernelspec": {
   "display_name": "Python 3 (ipykernel)",
   "language": "python",
   "name": "python3"
  },
  "language_info": {
   "codemirror_mode": {
    "name": "ipython",
    "version": 3
   },
   "file_extension": ".py",
   "mimetype": "text/x-python",
   "name": "python",
   "nbconvert_exporter": "python",
   "pygments_lexer": "ipython3",
   "version": "3.12.2"
  }
 },
 "nbformat": 4,
 "nbformat_minor": 5
}
