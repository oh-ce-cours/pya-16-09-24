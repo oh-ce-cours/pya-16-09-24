{
 "cells": [
  {
   "cell_type": "markdown",
   "id": "f7503c41-9f6c-48a1-90a4-5f664edcdd07",
   "metadata": {},
   "source": [
    "# Rappel du jour 1 \n",
    "\n",
    "* environnements virtuels\n",
    "* `pip`\n",
    "* admin sys : path, pythonpath\n",
    "* cpython : intépreteur \"officiel\", celui qui est écrit en `C`. Il y en a d'autre : `Jython`, `PyPy`\n",
    "* typage : permet de donner des indications \"optionnelles\" pour faciliter le travail des linters mais aussi la documentation \n",
    "* `linters` : \"les collègues relous\", ils lire le code (au sens propre, ils ne l'éxécutent pas) et détecter des \"anomalies\" (mauvais types, non respect des conventions, ...)\n",
    "    * `ruff` : généraliste + formattage, remplace `flake8`, `black` \n",
    "    * `mypy` : spécialisé sur le typage avec l'analyse des annotations de type\n",
    "    * `pylint` : généraliste\n",
    "*  qualité de code :\n",
    "    *  \"code smells\" : mauvaise organisation du code\n",
    "    *  test unitaires : "
   ]
  },
  {
   "cell_type": "markdown",
   "id": "74dbafa9-111c-4b6a-a1b4-4a51ff10be1d",
   "metadata": {},
   "source": [
    "# Parsing de TLE "
   ]
  },
  {
   "cell_type": "code",
   "execution_count": 12,
   "id": "119149ee-c7fb-4aed-9ae8-46abb68f209c",
   "metadata": {},
   "outputs": [],
   "source": [
    "tle_data = \"\"\"     ISS (ZARYA)             \n",
    "1 25544U 98067A   14273.50403866  .00012237  00000-0  21631-3 0  1790\n",
    "2 25544  51.6467 297.5710 0002045 126.1182  27.2142 15.50748592907666\n",
    "ISS DEB [TOOLBAG]       \n",
    "1 33442U 98067BL  09215.54829407  .13008691  12713-4  15349-3 0  3986\n",
    "2 33442 051.6268 036.9885 0007699 292.6234 072.1768 16.49476607 40751\n",
    "\"\"\""
   ]
  },
  {
   "cell_type": "code",
   "execution_count": 13,
   "id": "7c07782c-9bdd-4059-a90d-38c945c91cc1",
   "metadata": {},
   "outputs": [
    {
     "data": {
      "text/plain": [
       "'     ISS (ZARYA)             \\n1 25544U 98067A   14273.50403866  .00012237  00000-0  21631-3 0  1790\\n2 25544  51.6467 297.5710 0002045 126.1182  27.2142 15.50748592907666\\nISS DEB [TOOLBAG]       \\n1 33442U 98067BL  09215.54829407  .13008691  12713-4  15349-3 0  3986\\n2 33442 051.6268 036.9885 0007699 292.6234 072.1768 16.49476607 40751\\n'"
      ]
     },
     "execution_count": 13,
     "metadata": {},
     "output_type": "execute_result"
    }
   ],
   "source": [
    "tle_data"
   ]
  },
  {
   "cell_type": "code",
   "execution_count": 14,
   "id": "f7143438-77e4-4466-bf36-e021068a0d42",
   "metadata": {},
   "outputs": [
    {
     "data": {
      "text/plain": [
       "['     ISS (ZARYA)             ',\n",
       " '1 25544U 98067A   14273.50403866  .00012237  00000-0  21631-3 0  1790',\n",
       " '2 25544  51.6467 297.5710 0002045 126.1182  27.2142 15.50748592907666',\n",
       " 'ISS DEB [TOOLBAG]       ',\n",
       " '1 33442U 98067BL  09215.54829407  .13008691  12713-4  15349-3 0  3986',\n",
       " '2 33442 051.6268 036.9885 0007699 292.6234 072.1768 16.49476607 40751',\n",
       " '']"
      ]
     },
     "execution_count": 14,
     "metadata": {},
     "output_type": "execute_result"
    }
   ],
   "source": [
    "lines = tle_data.split(\"\\n\")\n",
    "lines"
   ]
  },
  {
   "cell_type": "code",
   "execution_count": 32,
   "id": "599483ae-3791-4d7c-a541-1a2c89dd6a73",
   "metadata": {},
   "outputs": [
    {
     "data": {
      "text/plain": [
       "['ISS (ZARYA)',\n",
       " '1 25544U 98067A   14273.50403866  .00012237  00000-0  21631-3 0  1790',\n",
       " '2 25544  51.6467 297.5710 0002045 126.1182  27.2142 15.50748592907666',\n",
       " 'ISS DEB [TOOLBAG]',\n",
       " '1 33442U 98067BL  09215.54829407  .13008691  12713-4  15349-3 0  3986',\n",
       " '2 33442 051.6268 036.9885 0007699 292.6234 072.1768 16.49476607 40751']"
      ]
     },
     "execution_count": 32,
     "metadata": {},
     "output_type": "execute_result"
    }
   ],
   "source": [
    "lines = [l.strip() for l in lines if l]\n",
    "lines"
   ]
  },
  {
   "cell_type": "code",
   "execution_count": 17,
   "id": "85632976-57a8-429f-b698-eaffd09f3ab5",
   "metadata": {},
   "outputs": [],
   "source": [
    "def chunks(lst, n):\n",
    "    \"\"\"Yield successive n-sized chunks from lst.\n",
    "    From https://stackoverflow.com/questions/312443/how-do-i-split-a-list-into-equally-sized-chunks\n",
    "    \"\"\" \n",
    "    for i in range(0, len(lst), n):\n",
    "        yield lst[i:i + n]"
   ]
  },
  {
   "cell_type": "code",
   "execution_count": 21,
   "id": "867965d5-9a91-449a-86d2-e568be74d5b1",
   "metadata": {},
   "outputs": [
    {
     "data": {
      "text/plain": [
       "['ISS (ZARYA)',\n",
       " '1 25544U 98067A   14273.50403866  .00012237  00000-0  21631-3 0  1790',\n",
       " '2 25544  51.6467 297.5710 0002045 126.1182  27.2142 15.50748592907666']"
      ]
     },
     "execution_count": 21,
     "metadata": {},
     "output_type": "execute_result"
    }
   ],
   "source": [
    "items = list(chunks(lines, 3))\n",
    "items[0]"
   ]
  },
  {
   "cell_type": "code",
   "execution_count": 67,
   "id": "73014780-67d5-491c-9a4f-9cd5bd0c0df8",
   "metadata": {},
   "outputs": [],
   "source": [
    "def traitement_triplet(triplet: list) -> dict:\n",
    "    res = {}\n",
    "    name, ligne1, ligne2 = triplet\n",
    "    if ligne1[0] != \"1\":\n",
    "        raise Exception(\"c'est pas bon ligne 1\")\n",
    "    if ligne2[0] != \"2\":\n",
    "        raise Exception(\"c'est pas bon ligne 2\")\n",
    "    res[\"name\"] = name\n",
    "    elements_ligne_1 = ligne1.split()\n",
    "    elements_ligne_2 = ligne2.split()\n",
    "\n",
    "    labels_ligne_1 = [\"champ1\", \"champ2\", \"champ3\", \"champ4\", \"champ5\", \"champ6\", \"champ7\", \"champ8\", \"champ9\"]\n",
    "    \n",
    "    print(elements_ligne_1)\n",
    "    if len(elements_ligne_1) != 9:\n",
    "        raise Exception(f\"pas le bon nombre d'éléments dans la ligne 1 on en a {len(elements_ligne_1)}, attendu 9\")\n",
    "\n",
    "    return res"
   ]
  },
  {
   "cell_type": "code",
   "execution_count": 68,
   "id": "8df4786d-5d3c-4a7d-bc8b-8a17da341a7a",
   "metadata": {},
   "outputs": [
    {
     "name": "stdout",
     "output_type": "stream",
     "text": [
      "['1', '25544U', '98067A', '14273.50403866', '.00012237', '00000-0', '21631-3', '0', '1790']\n"
     ]
    },
    {
     "data": {
      "text/plain": [
       "{'name': 'ISS (ZARYA)'}"
      ]
     },
     "execution_count": 68,
     "metadata": {},
     "output_type": "execute_result"
    }
   ],
   "source": [
    "traitement_triplet(items[0])"
   ]
  },
  {
   "cell_type": "code",
   "execution_count": null,
   "id": "8d6875a4-360c-48ba-b225-b4cb5c483c2b",
   "metadata": {},
   "outputs": [],
   "source": []
  },
  {
   "cell_type": "code",
   "execution_count": null,
   "id": "6676101f-0364-4fd2-bb5d-6833e0d2710c",
   "metadata": {},
   "outputs": [],
   "source": []
  },
  {
   "cell_type": "code",
   "execution_count": null,
   "id": "c3c7d54a-7a66-4bbe-b770-35a0e9345f34",
   "metadata": {},
   "outputs": [],
   "source": []
  },
  {
   "cell_type": "markdown",
   "id": "a63bd1b0-00e4-4229-8444-fbb41254e96f",
   "metadata": {},
   "source": [
    "### Slicing "
   ]
  },
  {
   "cell_type": "code",
   "execution_count": 24,
   "id": "faea4105-a3d1-448a-ba49-20f516aca4e3",
   "metadata": {},
   "outputs": [
    {
     "data": {
      "text/plain": [
       "('abcde', 'fghij', 'klmnopqrstuvwxyz')"
      ]
     },
     "execution_count": 24,
     "metadata": {},
     "output_type": "execute_result"
    }
   ],
   "source": [
    "a = \"abcdefghijklmnopqrstuvwxyz\"\n",
    "a[:5], a[5:10], a[10:]"
   ]
  },
  {
   "cell_type": "code",
   "execution_count": 33,
   "id": "73ac1527-3b40-403b-b396-b48ac77023c8",
   "metadata": {},
   "outputs": [
    {
     "data": {
      "text/plain": [
       "[0, 3, 6, 9, 12, 15, 18, 21, 24, 27, 30, 33, 36, 39, 42, 45, 48]"
      ]
     },
     "execution_count": 33,
     "metadata": {},
     "output_type": "execute_result"
    }
   ],
   "source": [
    "list(range(0, 50, 3))"
   ]
  }
 ],
 "metadata": {
  "kernelspec": {
   "display_name": "Python 3 (ipykernel)",
   "language": "python",
   "name": "python3"
  },
  "language_info": {
   "codemirror_mode": {
    "name": "ipython",
    "version": 3
   },
   "file_extension": ".py",
   "mimetype": "text/x-python",
   "name": "python",
   "nbconvert_exporter": "python",
   "pygments_lexer": "ipython3",
   "version": "3.12.2"
  }
 },
 "nbformat": 4,
 "nbformat_minor": 5
}
