{
 "cells": [
  {
   "cell_type": "code",
   "execution_count": null,
   "id": "0ba8be68-9f5e-4ca3-b921-56c0200150db",
   "metadata": {},
   "outputs": [],
   "source": []
  }
 ],
 "metadata": {
  "kernelspec": {
   "display_name": "",
   "name": ""
  },
  "language_info": {
   "name": ""
  }
 },
 "nbformat": 4,
 "nbformat_minor": 5
}
