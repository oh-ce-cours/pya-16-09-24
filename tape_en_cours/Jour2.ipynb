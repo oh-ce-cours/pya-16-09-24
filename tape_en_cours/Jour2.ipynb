{
 "cells": [
  {
   "cell_type": "markdown",
   "id": "f7503c41-9f6c-48a1-90a4-5f664edcdd07",
   "metadata": {},
   "source": [
    "# Rappel du jour 1 \n",
    "\n",
    "* environnements virtuels\n",
    "* `pip`\n",
    "* admin sys : path, pythonpath\n",
    "* cpython : intépreteur \"officiel\", celui qui est écrit en `C`. Il y en a d'autre : `Jython`, `PyPy`\n",
    "* typage : permet de donner des indications \"optionnelles\" pour faciliter le travail des linters mais aussi la documentation \n",
    "* `linters` : \"les collègues relous\", ils lire le code (au sens propre, ils ne l'éxécutent pas) et détecter des \"anomalies\" (mauvais types, non respect des conventions, ...)\n",
    "    * `ruff` : généraliste + formattage, remplace `flake8`, `black` \n",
    "    * `mypy` : spécialisé sur le typage avec l'analyse des annotations de type\n",
    "    * `pylint` : généraliste\n",
    "*  qualité de code :\n",
    "    *  \"code smells\" : mauvaise organisation du code\n",
    "    *  test unitaires : "
   ]
  },
  {
   "cell_type": "markdown",
   "id": "74dbafa9-111c-4b6a-a1b4-4a51ff10be1d",
   "metadata": {},
   "source": [
    "# Parsing de TLE "
   ]
  },
  {
   "cell_type": "code",
   "execution_count": null,
   "id": "119149ee-c7fb-4aed-9ae8-46abb68f209c",
   "metadata": {},
   "outputs": [],
   "source": [
    "ISS (ZARYA)             \n",
    "1 25544U 98067A   14273.50403866  .00012237  00000-0  21631-3 0  1790\n",
    "2 25544  51.6467 297.5710 0002045 126.1182  27.2142 15.50748592907666\n"
   ]
  }
 ],
 "metadata": {
  "kernelspec": {
   "display_name": "Python 3 (ipykernel)",
   "language": "python",
   "name": "python3"
  },
  "language_info": {
   "codemirror_mode": {
    "name": "ipython",
    "version": 3
   },
   "file_extension": ".py",
   "mimetype": "text/x-python",
   "name": "python",
   "nbconvert_exporter": "python",
   "pygments_lexer": "ipython3",
   "version": "3.12.2"
  }
 },
 "nbformat": 4,
 "nbformat_minor": 5
}
