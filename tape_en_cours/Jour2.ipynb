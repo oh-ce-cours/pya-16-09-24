{
 "cells": [
  {
   "cell_type": "markdown",
   "id": "f7503c41-9f6c-48a1-90a4-5f664edcdd07",
   "metadata": {},
   "source": [
    "# Rappel du jour 1 \n",
    "\n",
    "* environnements virtuels\n",
    "* `pip`\n",
    "* admin sys : path, pythonpath\n",
    "* cpython : intépreteur \"officiel\", celui qui est écrit en `C`. Il y en a d'autre : `Jython`, `PyPy`\n",
    "* typage : \n",
    "* `linters` : \"les collègues relous\", ils lire le code (au sens propre, ils ne l'éxécutent pas) et détecter des \"anomalies\" (mauvais types, non respect des conventions, ...)\n",
    "    * `ruff` : généraliste + formattage, remplacer `\n",
    "    * `mypy` : spécialisé sur le typage avec l'analyse des annotations de type\n",
    "    * `pylint` : généraliste\n",
    "*  "
   ]
  },
  {
   "cell_type": "code",
   "execution_count": null,
   "id": "b87e6393-c900-4734-83a2-081b16fdde08",
   "metadata": {},
   "outputs": [],
   "source": []
  }
 ],
 "metadata": {
  "kernelspec": {
   "display_name": "Python 3 (ipykernel)",
   "language": "python",
   "name": "python3"
  },
  "language_info": {
   "codemirror_mode": {
    "name": "ipython",
    "version": 3
   },
   "file_extension": ".py",
   "mimetype": "text/x-python",
   "name": "python",
   "nbconvert_exporter": "python",
   "pygments_lexer": "ipython3",
   "version": "3.12.2"
  }
 },
 "nbformat": 4,
 "nbformat_minor": 5
}
