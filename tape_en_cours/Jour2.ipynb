{
 "cells": [
  {
   "cell_type": "markdown",
   "id": "f7503c41-9f6c-48a1-90a4-5f664edcdd07",
   "metadata": {},
   "source": [
    "# Rappel du jour 1 \n",
    "\n",
    "* environnements virtuels\n",
    "* `pip`\n",
    "* admin sys : path, pythonpath\n",
    "* cpython : intépreteur \"officiel\", celui qui est écrit en `C`. Il y en a d'autre : `Jython`, `PyPy`\n",
    "* typage : permet de donner des indications \"optionnelles\" pour faciliter le travail des linters mais aussi la documentation \n",
    "* `linters` : \"les collègues relous\", ils lire le code (au sens propre, ils ne l'éxécutent pas) et détecter des \"anomalies\" (mauvais types, non respect des conventions, ...)\n",
    "    * `ruff` : généraliste + formattage, remplace `flake8`, `black` \n",
    "    * `mypy` : spécialisé sur le typage avec l'analyse des annotations de type\n",
    "    * `pylint` : généraliste\n",
    "*  qualité de code :\n",
    "    *  \"code smells\" : mauvaise organisation du code\n",
    "    *  test unitaires : "
   ]
  },
  {
   "cell_type": "markdown",
   "id": "74dbafa9-111c-4b6a-a1b4-4a51ff10be1d",
   "metadata": {},
   "source": [
    "# Parsing de TLE "
   ]
  },
  {
   "cell_type": "code",
   "execution_count": 12,
   "id": "119149ee-c7fb-4aed-9ae8-46abb68f209c",
   "metadata": {},
   "outputs": [],
   "source": [
    "tle_data = \"\"\"     ISS (ZARYA)             \n",
    "1 25544U 98067A   14273.50403866  .00012237  00000-0  21631-3 0  1790\n",
    "2 25544  51.6467 297.5710 0002045 126.1182  27.2142 15.50748592907666\n",
    "ISS DEB [TOOLBAG]       \n",
    "1 33442U 98067BL  09215.54829407  .13008691  12713-4  15349-3 0  3986\n",
    "2 33442 051.6268 036.9885 0007699 292.6234 072.1768 16.49476607 40751\n",
    "\"\"\""
   ]
  },
  {
   "cell_type": "code",
   "execution_count": 13,
   "id": "7c07782c-9bdd-4059-a90d-38c945c91cc1",
   "metadata": {},
   "outputs": [
    {
     "data": {
      "text/plain": [
       "'     ISS (ZARYA)             \\n1 25544U 98067A   14273.50403866  .00012237  00000-0  21631-3 0  1790\\n2 25544  51.6467 297.5710 0002045 126.1182  27.2142 15.50748592907666\\nISS DEB [TOOLBAG]       \\n1 33442U 98067BL  09215.54829407  .13008691  12713-4  15349-3 0  3986\\n2 33442 051.6268 036.9885 0007699 292.6234 072.1768 16.49476607 40751\\n'"
      ]
     },
     "execution_count": 13,
     "metadata": {},
     "output_type": "execute_result"
    }
   ],
   "source": [
    "tle_data"
   ]
  },
  {
   "cell_type": "code",
   "execution_count": 14,
   "id": "f7143438-77e4-4466-bf36-e021068a0d42",
   "metadata": {},
   "outputs": [
    {
     "data": {
      "text/plain": [
       "['     ISS (ZARYA)             ',\n",
       " '1 25544U 98067A   14273.50403866  .00012237  00000-0  21631-3 0  1790',\n",
       " '2 25544  51.6467 297.5710 0002045 126.1182  27.2142 15.50748592907666',\n",
       " 'ISS DEB [TOOLBAG]       ',\n",
       " '1 33442U 98067BL  09215.54829407  .13008691  12713-4  15349-3 0  3986',\n",
       " '2 33442 051.6268 036.9885 0007699 292.6234 072.1768 16.49476607 40751',\n",
       " '']"
      ]
     },
     "execution_count": 14,
     "metadata": {},
     "output_type": "execute_result"
    }
   ],
   "source": [
    "lines = tle_data.split(\"\\n\")\n",
    "lines"
   ]
  },
  {
   "cell_type": "code",
   "execution_count": 16,
   "id": "599483ae-3791-4d7c-a541-1a2c89dd6a73",
   "metadata": {},
   "outputs": [
    {
     "data": {
      "text/plain": [
       "['ISS (ZARYA)',\n",
       " '1 25544U 98067A   14273.50403866  .00012237  00000-0  21631-3 0  1790',\n",
       " '2 25544  51.6467 297.5710 0002045 126.1182  27.2142 15.50748592907666',\n",
       " 'ISS DEB [TOOLBAG]',\n",
       " '1 33442U 98067BL  09215.54829407  .13008691  12713-4  15349-3 0  3986',\n",
       " '2 33442 051.6268 036.9885 0007699 292.6234 072.1768 16.49476607 40751']"
      ]
     },
     "execution_count": 16,
     "metadata": {},
     "output_type": "execute_result"
    }
   ],
   "source": [
    "lines = [l.strip() for l in lines if l]\n",
    "lines"
   ]
  },
  {
   "cell_type": "code",
   "execution_count": 17,
   "id": "85632976-57a8-429f-b698-eaffd09f3ab5",
   "metadata": {},
   "outputs": [],
   "source": [
    "def chunks(lst, n):\n",
    "    \"\"\"Yield successive n-sized chunks from lst.\n",
    "    From https://stackoverflow.com/questions/312443/how-do-i-split-a-list-into-equally-sized-chunks\n",
    "    \"\"\"\n",
    "    for i in range(0, len(lst), n):\n",
    "        yield lst[i:i + n]"
   ]
  },
  {
   "cell_type": "code",
   "execution_count": 21,
   "id": "867965d5-9a91-449a-86d2-e568be74d5b1",
   "metadata": {},
   "outputs": [
    {
     "data": {
      "text/plain": [
       "['ISS (ZARYA)',\n",
       " '1 25544U 98067A   14273.50403866  .00012237  00000-0  21631-3 0  1790',\n",
       " '2 25544  51.6467 297.5710 0002045 126.1182  27.2142 15.50748592907666']"
      ]
     },
     "execution_count": 21,
     "metadata": {},
     "output_type": "execute_result"
    }
   ],
   "source": [
    "items = list(chunks(lines, 3))\n",
    "items[0]"
   ]
  },
  {
   "cell_type": "code",
   "execution_count": null,
   "id": "5bb81eec-46a9-4274-a7b2-03fed7861051",
   "metadata": {},
   "outputs": [],
   "source": []
  }
 ],
 "metadata": {
  "kernelspec": {
   "display_name": "Python 3 (ipykernel)",
   "language": "python",
   "name": "python3"
  },
  "language_info": {
   "codemirror_mode": {
    "name": "ipython",
    "version": 3
   },
   "file_extension": ".py",
   "mimetype": "text/x-python",
   "name": "python",
   "nbconvert_exporter": "python",
   "pygments_lexer": "ipython3",
   "version": "3.12.2"
  }
 },
 "nbformat": 4,
 "nbformat_minor": 5
}
