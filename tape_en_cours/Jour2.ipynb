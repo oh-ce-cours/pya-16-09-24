{
 "cells": [
  {
   "cell_type": "markdown",
   "id": "f7503c41-9f6c-48a1-90a4-5f664edcdd07",
   "metadata": {},
   "source": [
    "# Rappel du jour 1 \n",
    "\n",
    "* environnements virtuels\n",
    "* `pip`\n",
    "* admin sys : path, pythonpath\n",
    "* cpython : intépreteur \"officiel\", celui qui est écrit en `C`. Il y en a d'autre : `Jython`, `PyPy`\n",
    "* typage : permet de donner des indications \"optionnelles\" pour faciliter le travail des linters mais aussi la documentation \n",
    "* `linters` : \"les collègues relous\", ils lire le code (au sens propre, ils ne l'éxécutent pas) et détecter des \"anomalies\" (mauvais types, non respect des conventions, ...)\n",
    "    * `ruff` : généraliste + formattage, remplace `flake8`, `black` \n",
    "    * `mypy` : spécialisé sur le typage avec l'analyse des annotations de type\n",
    "    * `pylint` : généraliste\n",
    "*  qualité de code :\n",
    "    *  \"code smells\" : mauvaise organisation du code\n",
    "    *  test unitaires : "
   ]
  },
  {
   "cell_type": "markdown",
   "id": "74dbafa9-111c-4b6a-a1b4-4a51ff10be1d",
   "metadata": {},
   "source": [
    "# Parsing de TLE "
   ]
  },
  {
   "cell_type": "code",
   "execution_count": 101,
   "id": "119149ee-c7fb-4aed-9ae8-46abb68f209c",
   "metadata": {},
   "outputs": [],
   "source": [
    "tle_data = \"\"\"     ISS (ZARYA)             \n",
    "1 25544U 98067A   14273.50403866  .00012237  00000-0  21631-3 0  1790\n",
    "2 25544  51.6467 297.5710 0002045 126.1182  27.2142 15.50748592907666\n",
    "ISS DEB [TOOLBAG]       \n",
    "1 33442U 98067BL  09215.54829407  .13008691  12713-4  15349-3 0  3986\n",
    "2 33442 051.6268 036.9885 0007699 292.6234 072.1768 16.49476607 40751\n",
    "\"\"\""
   ]
  },
  {
   "cell_type": "code",
   "execution_count": 102,
   "id": "7c07782c-9bdd-4059-a90d-38c945c91cc1",
   "metadata": {},
   "outputs": [
    {
     "data": {
      "text/plain": [
       "'     ISS (ZARYA)             \\n1 25544U 98067A   14273.50403866  .00012237  00000-0  21631-3 0  1790\\n2 25544  51.6467 297.5710 0002045 126.1182  27.2142 15.50748592907666\\nISS DEB [TOOLBAG]       \\n1 33442U 98067BL  09215.54829407  .13008691  12713-4  15349-3 0  3986\\n2 33442 051.6268 036.9885 0007699 292.6234 072.1768 16.49476607 40751\\n'"
      ]
     },
     "execution_count": 102,
     "metadata": {},
     "output_type": "execute_result"
    }
   ],
   "source": [
    "tle_data"
   ]
  },
  {
   "cell_type": "code",
   "execution_count": 103,
   "id": "f7143438-77e4-4466-bf36-e021068a0d42",
   "metadata": {},
   "outputs": [
    {
     "data": {
      "text/plain": [
       "['     ISS (ZARYA)             ',\n",
       " '1 25544U 98067A   14273.50403866  .00012237  00000-0  21631-3 0  1790',\n",
       " '2 25544  51.6467 297.5710 0002045 126.1182  27.2142 15.50748592907666',\n",
       " 'ISS DEB [TOOLBAG]       ',\n",
       " '1 33442U 98067BL  09215.54829407  .13008691  12713-4  15349-3 0  3986',\n",
       " '2 33442 051.6268 036.9885 0007699 292.6234 072.1768 16.49476607 40751',\n",
       " '']"
      ]
     },
     "execution_count": 103,
     "metadata": {},
     "output_type": "execute_result"
    }
   ],
   "source": [
    "lines = tle_data.split(\"\\n\")\n",
    "lines"
   ]
  },
  {
   "cell_type": "code",
   "execution_count": 104,
   "id": "599483ae-3791-4d7c-a541-1a2c89dd6a73",
   "metadata": {},
   "outputs": [
    {
     "data": {
      "text/plain": [
       "['ISS (ZARYA)',\n",
       " '1 25544U 98067A   14273.50403866  .00012237  00000-0  21631-3 0  1790',\n",
       " '2 25544  51.6467 297.5710 0002045 126.1182  27.2142 15.50748592907666',\n",
       " 'ISS DEB [TOOLBAG]',\n",
       " '1 33442U 98067BL  09215.54829407  .13008691  12713-4  15349-3 0  3986',\n",
       " '2 33442 051.6268 036.9885 0007699 292.6234 072.1768 16.49476607 40751']"
      ]
     },
     "execution_count": 104,
     "metadata": {},
     "output_type": "execute_result"
    }
   ],
   "source": [
    "lines = [l.strip() for l in lines if l]\n",
    "lines"
   ]
  },
  {
   "cell_type": "code",
   "execution_count": 105,
   "id": "85632976-57a8-429f-b698-eaffd09f3ab5",
   "metadata": {},
   "outputs": [],
   "source": [
    "def chunks(lst, n):\n",
    "    \"\"\"Yield successive n-sized chunks from lst.\n",
    "    From https://stackoverflow.com/questions/312443/how-do-i-split-a-list-into-equally-sized-chunks\n",
    "    \"\"\" \n",
    "    for i in range(0, len(lst), n):\n",
    "        yield lst[i:i + n]"
   ]
  },
  {
   "cell_type": "code",
   "execution_count": 106,
   "id": "867965d5-9a91-449a-86d2-e568be74d5b1",
   "metadata": {},
   "outputs": [
    {
     "data": {
      "text/plain": [
       "[['ISS (ZARYA)',\n",
       "  '1 25544U 98067A   14273.50403866  .00012237  00000-0  21631-3 0  1790',\n",
       "  '2 25544  51.6467 297.5710 0002045 126.1182  27.2142 15.50748592907666'],\n",
       " ['ISS DEB [TOOLBAG]',\n",
       "  '1 33442U 98067BL  09215.54829407  .13008691  12713-4  15349-3 0  3986',\n",
       "  '2 33442 051.6268 036.9885 0007699 292.6234 072.1768 16.49476607 40751']]"
      ]
     },
     "execution_count": 106,
     "metadata": {},
     "output_type": "execute_result"
    }
   ],
   "source": [
    "items = list(chunks(lines, 3))\n",
    "items"
   ]
  },
  {
   "cell_type": "code",
   "execution_count": 107,
   "id": "73014780-67d5-491c-9a4f-9cd5bd0c0df8",
   "metadata": {},
   "outputs": [],
   "source": [
    "def parsing_triplet(triplet: list) -> dict:\n",
    "    res = {}\n",
    "    name, ligne1, ligne2 = triplet\n",
    "    if ligne1[0] != \"1\":\n",
    "        raise Exception(\"c'est pas bon ligne 1\")\n",
    "    if ligne2[0] != \"2\":\n",
    "        raise Exception(\"c'est pas bon ligne 2\")\n",
    "    res[\"name\"] = name\n",
    "    elements_ligne_1 = ligne1.split()\n",
    "    elements_ligne_2 = ligne2.split()\n",
    "\n",
    "    \"\"\"\n",
    "    labels_ligne_1 = [\"champ11\", \"champ12\", \"champ13\", \"champ14\", \"champ15\", \"champ16\", \"champ17\", \"champ18\", \"champ19\"]\n",
    "    \n",
    "    print(elements_ligne_1)\n",
    "    if len(elements_ligne_1) != 9:\n",
    "        raise Exception(f\"pas le bon nombre d'éléments dans la ligne 1 on en a {len(elements_ligne_1)}, attendu 9\")\n",
    "    \n",
    "    dico_ligne_1 = {label: value for label, value in zip(labels_ligne_1, elements_ligne_1)}\n",
    "    \"\"\"\n",
    "    labels_ligne_2 = [\"champ21\", \"champ22\", \"champ23\", \"champ24\", \"champ25\", \"champ26\", \"champ27\", \"champ28\", \"champ29\"]\n",
    "    dico_ligne_2 = {label: value for label, value in zip(labels_ligne_2, elements_ligne_2)}\n",
    "\n",
    "    dico_ligne_1 = {}\n",
    "    dico_ligne_1[\"champ11\"] = ligne1[0].strip()\n",
    "    dico_ligne_1[\"champ12\"] = ligne1[2:7].strip()\n",
    "    res.update(dico_ligne_1)\n",
    "    res.update(dico_ligne_2)\n",
    "    return res"
   ]
  },
  {
   "cell_type": "code",
   "execution_count": 108,
   "id": "8df4786d-5d3c-4a7d-bc8b-8a17da341a7a",
   "metadata": {},
   "outputs": [
    {
     "data": {
      "text/plain": [
       "{'name': 'ISS (ZARYA)',\n",
       " 'champ11': '1',\n",
       " 'champ12': '25544',\n",
       " 'champ21': '2',\n",
       " 'champ22': '25544',\n",
       " 'champ23': '51.6467',\n",
       " 'champ24': '297.5710',\n",
       " 'champ25': '0002045',\n",
       " 'champ26': '126.1182',\n",
       " 'champ27': '27.2142',\n",
       " 'champ28': '15.50748592907666'}"
      ]
     },
     "execution_count": 108,
     "metadata": {},
     "output_type": "execute_result"
    }
   ],
   "source": [
    "parsing_triplet(items[0])"
   ]
  },
  {
   "cell_type": "code",
   "execution_count": null,
   "id": "6676101f-0364-4fd2-bb5d-6833e0d2710c",
   "metadata": {},
   "outputs": [
    {
     "name": "stderr",
     "output_type": "stream",
     "text": [
      "Process SpawnPoolWorker-8:\n",
      "Traceback (most recent call last):\n",
      "Process SpawnPoolWorker-9:\n",
      "Traceback (most recent call last):\n",
      "  File \"/Users/matthieufalce/.pyenv/versions/3.12.2/lib/python3.12/multiprocessing/process.py\", line 314, in _bootstrap\n",
      "    self.run()\n",
      "  File \"/Users/matthieufalce/.pyenv/versions/3.12.2/lib/python3.12/multiprocessing/process.py\", line 108, in run\n",
      "    self._target(*self._args, **self._kwargs)\n",
      "  File \"/Users/matthieufalce/.pyenv/versions/3.12.2/lib/python3.12/multiprocessing/pool.py\", line 114, in worker\n",
      "    task = get()\n",
      "           ^^^^^\n",
      "  File \"/Users/matthieufalce/.pyenv/versions/3.12.2/lib/python3.12/multiprocessing/queues.py\", line 389, in get\n",
      "    return _ForkingPickler.loads(res)\n",
      "           ^^^^^^^^^^^^^^^^^^^^^^^^^^\n",
      "AttributeError: Can't get attribute 'parsing_triplet' on <module '__main__' (<class '_frozen_importlib.BuiltinImporter'>)>\n",
      "  File \"/Users/matthieufalce/.pyenv/versions/3.12.2/lib/python3.12/multiprocessing/process.py\", line 314, in _bootstrap\n",
      "    self.run()\n",
      "  File \"/Users/matthieufalce/.pyenv/versions/3.12.2/lib/python3.12/multiprocessing/process.py\", line 108, in run\n",
      "    self._target(*self._args, **self._kwargs)\n",
      "  File \"/Users/matthieufalce/.pyenv/versions/3.12.2/lib/python3.12/multiprocessing/pool.py\", line 114, in worker\n",
      "    task = get()\n",
      "           ^^^^^\n",
      "  File \"/Users/matthieufalce/.pyenv/versions/3.12.2/lib/python3.12/multiprocessing/queues.py\", line 389, in get\n",
      "    return _ForkingPickler.loads(res)\n",
      "           ^^^^^^^^^^^^^^^^^^^^^^^^^^\n",
      "AttributeError: Can't get attribute 'parsing_triplet' on <module '__main__' (<class '_frozen_importlib.BuiltinImporter'>)>\n"
     ]
    }
   ],
   "source": [
    "from multiprocessing import Pool\n",
    "\n",
    "\n",
    "if __name__ == '__main__':\n",
    "    with Pool(5) as p:\n",
    "        print(p.map(parsing_triplet, items))\n"
   ]
  },
  {
   "cell_type": "code",
   "execution_count": 88,
   "id": "8d6875a4-360c-48ba-b225-b4cb5c483c2b",
   "metadata": {},
   "outputs": [
    {
     "name": "stdout",
     "output_type": "stream",
     "text": [
      "98 067 A\n"
     ]
    }
   ],
   "source": [
    "data = \"98067A\"\n",
    "id1 = data[:2]\n",
    "id2 = data[2:5]\n",
    "id3 = data[-1]\n",
    "print(id1, id2, id3)"
   ]
  },
  {
   "cell_type": "code",
   "execution_count": null,
   "id": "c3c7d54a-7a66-4bbe-b770-35a0e9345f34",
   "metadata": {},
   "outputs": [],
   "source": []
  },
  {
   "cell_type": "markdown",
   "id": "a63bd1b0-00e4-4229-8444-fbb41254e96f",
   "metadata": {},
   "source": [
    "### Slicing "
   ]
  },
  {
   "cell_type": "code",
   "execution_count": 24,
   "id": "faea4105-a3d1-448a-ba49-20f516aca4e3",
   "metadata": {},
   "outputs": [
    {
     "data": {
      "text/plain": [
       "('abcde', 'fghij', 'klmnopqrstuvwxyz')"
      ]
     },
     "execution_count": 24,
     "metadata": {},
     "output_type": "execute_result"
    }
   ],
   "source": [
    "a = \"abcdefghijklmnopqrstuvwxyz\"\n",
    "a[:5], a[5:10], a[10:]"
   ]
  },
  {
   "cell_type": "code",
   "execution_count": 33,
   "id": "73ac1527-3b40-403b-b396-b48ac77023c8",
   "metadata": {},
   "outputs": [
    {
     "data": {
      "text/plain": [
       "[0, 3, 6, 9, 12, 15, 18, 21, 24, 27, 30, 33, 36, 39, 42, 45, 48]"
      ]
     },
     "execution_count": 33,
     "metadata": {},
     "output_type": "execute_result"
    }
   ],
   "source": [
    "list(range(0, 50, 3))"
   ]
  }
 ],
 "metadata": {
  "kernelspec": {
   "display_name": "Python 3 (ipykernel)",
   "language": "python",
   "name": "python3"
  },
  "language_info": {
   "codemirror_mode": {
    "name": "ipython",
    "version": 3
   },
   "file_extension": ".py",
   "mimetype": "text/x-python",
   "name": "python",
   "nbconvert_exporter": "python",
   "pygments_lexer": "ipython3",
   "version": "3.12.2"
  }
 },
 "nbformat": 4,
 "nbformat_minor": 5
}
